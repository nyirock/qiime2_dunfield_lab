{
 "cells": [
  {
   "cell_type": "markdown",
   "metadata": {},
   "source": [
    "# qiime2 v.2019.4 dunfield lab tutorial\n",
    "\n",
    "* Relative paths are used\n",
    "* All commands imply terminal is in the current working directory\n",
    "* Knowledge of linux terminal is highly incouraged"
   ]
  },
  {
   "cell_type": "markdown",
   "metadata": {},
   "source": [
    "## Activate qiime2 environment"
   ]
  },
  {
   "cell_type": "code",
   "execution_count": null,
   "metadata": {},
   "outputs": [],
   "source": [
    "!conda activate qiime2-2019.4"
   ]
  },
  {
   "cell_type": "markdown",
   "metadata": {},
   "source": [
    "## Optionally enable qiime-specific autocompletion"
   ]
  },
  {
   "cell_type": "code",
   "execution_count": null,
   "metadata": {},
   "outputs": [],
   "source": [
    "!source tab-qiime"
   ]
  },
  {
   "cell_type": "markdown",
   "metadata": {},
   "source": [
    "## Navigate to your working directory\n",
    "* qiime2_lab_tutorial already folder contains raw data\n",
    "* lab_pipeline folder contains trained NaiveBayes Classifier\n",
    "* mapping file\n",
    "\n",
    "Next step expects that the folder exists (example)"
   ]
  },
  {
   "cell_type": "code",
   "execution_count": null,
   "metadata": {},
   "outputs": [],
   "source": [
    "!cd ~/Desktop/qiime2_lab_tutorial/lab_pipeline"
   ]
  },
  {
   "cell_type": "markdown",
   "metadata": {},
   "source": [
    "## Let's view the directory content"
   ]
  },
  {
   "cell_type": "code",
   "execution_count": 1,
   "metadata": {},
   "outputs": [
    {
     "name": "stdout",
     "output_type": "stream",
     "text": [
      "total 64\r\n",
      "-rwxrwxrwx 1 andriy andriy 55152 Oct  7 15:54 dunfield_lab_qiime2_pipeline_upd.ipynb\r\n",
      "-rwx------ 1 andriy andriy   746 Oct 21 08:20 mappingfile.tsv\r\n",
      "lrwxrwxrwx 1 andriy andriy   115 Oct 21 08:21 v3v4_silva132_classifier_wps2_2groups.qza -> /mnt/linuxData/qiimefiles/qiime2/classifierTraining/my_v3v4_with_a_script/v3v4_silva132_classifier_wps2_2groups.qza\r\n"
     ]
    }
   ],
   "source": [
    "!ls -l"
   ]
  },
  {
   "cell_type": "markdown",
   "metadata": {},
   "source": [
    "## Trim primers\n",
    "\n",
    "* Various primer trimming tools exist\n",
    "    * cutadapt\n",
    "    * bbmap\n",
    "    * qiime2 native tools\n",
    "    * trimmomatic\n",
    "    * manual removal...\n",
    "\n",
    "It is critical to remove non-biological sequences from the data.<br>\n",
    "We will remove our 16S V3-V4 region (Bacteria-specific primer set) primers sequences using cutadapt <br>\n",
    "* f-primer CCTACGGGNGGCWGCAG\n",
    "* r-primer GACTACHVGGGTATCTAATCC"
   ]
  },
  {
   "cell_type": "code",
   "execution_count": null,
   "metadata": {},
   "outputs": [],
   "source": []
  },
  {
   "cell_type": "markdown",
   "metadata": {},
   "source": [
    "## define variables"
   ]
  },
  {
   "cell_type": "code",
   "execution_count": 27,
   "metadata": {},
   "outputs": [],
   "source": [
    "classifier = \"v3v4_silva132_classifier_wps2_2groups.qza\"\n",
    "metadata = \"mappingfile.csv\"\n"
   ]
  },
  {
   "cell_type": "markdown",
   "metadata": {},
   "source": [
    "### Making directories"
   ]
  },
  {
   "cell_type": "code",
   "execution_count": 2,
   "metadata": {},
   "outputs": [],
   "source": [
    "!mkdir primer_trimmed_fastqs; mkdir cutadapt_logs"
   ]
  },
  {
   "cell_type": "markdown",
   "metadata": {},
   "source": [
    "### Primer trimming w\\ cutadapt with a help of a little script :)\n",
    "#### ! Expects to contain our data in the <font color=red>raw_data</font> folder in a parent directory\n",
    "* cutadapt logs could be found ./primer_trimmed_fastqs/logs\n",
    "* added minimum length parameter, since it gave an error with 0 length read"
   ]
  },
  {
   "cell_type": "code",
   "execution_count": 3,
   "metadata": {
    "scrolled": false
   },
   "outputs": [],
   "source": [
    "%%bash\n",
    "for file1 in ../raw_data/*_R1_*.fastq.gz; do\n",
    "    file2=\"${file1%_R1_001.fastq.gz}_R2_001.fastq.gz\"\n",
    "    fname1=`basename $file1`\n",
    "    fname2=`basename $file2`\n",
    "    `cutadapt --pair-filter any -j 4 -m 100 --no-indels --discard-untrimmed \\\n",
    "    -g CCTACGGGNGGCWGCAG -G GACTACHVGGGTATCTAATCC \\\n",
    "    -o primer_trimmed_fastqs/$fname1 -p primer_trimmed_fastqs/$fname2 \\\n",
    "    $file1 $file2 \\\n",
    "    > cutadapt_logs/${fname1}_cutadapt_log.txt`\n",
    "done"
   ]
  },
  {
   "cell_type": "markdown",
   "metadata": {},
   "source": [
    "## Import trimmed FASTQs as a QIIME2 artifact\n",
    "\n",
    "To keep the directory clean you can put the artifact files in a new directory"
   ]
  },
  {
   "cell_type": "code",
   "execution_count": 4,
   "metadata": {},
   "outputs": [],
   "source": [
    "!mkdir paired_reads_qza"
   ]
  },
  {
   "cell_type": "markdown",
   "metadata": {},
   "source": [
    "### Casava 1.8 single-end demultiplexed fastq\n",
    "Format description\n",
    "\n",
    "In the Casava 1.8 demultiplexed (single-end) format, there is one fastq.gz file for each sample in the study which contains the single-end reads for that sample. The file name includes the sample identifier and should look like L2S357_15_L001_R1_001.fastq.gz. The underscore-separated fields in this file name are:\n",
    "\n",
    "    the sample identifier,\n",
    "    the barcode sequence or a barcode identifier,\n",
    "    the lane number,\n",
    "    the direction of the read (i.e. only R1, because these are single-end reads), and\n",
    "    the set number.\n",
    "\n",
    "Obtaining example data"
   ]
  },
  {
   "cell_type": "markdown",
   "metadata": {},
   "source": [
    "### Importing..."
   ]
  },
  {
   "cell_type": "code",
   "execution_count": 5,
   "metadata": {},
   "outputs": [
    {
     "name": "stdout",
     "output_type": "stream",
     "text": [
      "\u001b[32mImported primer_trimmed_fastqs as CasavaOneEightSingleLanePerSampleDirFmt to paired_reads_qza/reads_trimmed.qza\u001b[0m\r\n"
     ]
    }
   ],
   "source": [
    "!qiime tools import --type SampleData[PairedEndSequencesWithQuality] \\\n",
    "                   --input-path primer_trimmed_fastqs \\\n",
    "                   --output-path paired_reads_qza/reads_trimmed.qza \\\n",
    "                   --input-format CasavaOneEightSingleLanePerSampleDirFmt"
   ]
  },
  {
   "cell_type": "markdown",
   "metadata": {},
   "source": [
    "* Our reads are now ready to be used by qiime2"
   ]
  },
  {
   "cell_type": "markdown",
   "metadata": {},
   "source": [
    "## Quality control w/ deblur:\n",
    "Currently deblur doesn't support paired-end reads <br>\n",
    "### Using VSEARCH for joining:"
   ]
  },
  {
   "cell_type": "code",
   "execution_count": 6,
   "metadata": {},
   "outputs": [
    {
     "name": "stdout",
     "output_type": "stream",
     "text": [
      "\u001b[32mSaved SampleData[JoinedSequencesWithQuality] to: paired_reads_qza/reads_trimmed_joined.qza\u001b[0m\r\n"
     ]
    }
   ],
   "source": [
    "!qiime vsearch join-pairs \\\n",
    "--i-demultiplexed-seqs paired_reads_qza/reads_trimmed.qza \\\n",
    "--o-joined-sequences paired_reads_qza/reads_trimmed_joined.qza"
   ]
  },
  {
   "cell_type": "markdown",
   "metadata": {},
   "source": [
    "### Filter out low-quality reads.\n",
    "\n",
    "This command will filter out low-quality reads based on the default options.<br>\n",
    "(this step may take a while)"
   ]
  },
  {
   "cell_type": "code",
   "execution_count": 7,
   "metadata": {},
   "outputs": [
    {
     "name": "stdout",
     "output_type": "stream",
     "text": [
      "\u001b[32mSaved SampleData[JoinedSequencesWithQuality] to: paired_reads_qza/reads_trimmed_joined_filt.qza\u001b[0m\r\n",
      "\u001b[32mSaved QualityFilterStats to: filt_stats.qza\u001b[0m\r\n"
     ]
    }
   ],
   "source": [
    "!qiime quality-filter q-score-joined \\\n",
    "--i-demux paired_reads_qza/reads_trimmed_joined.qza \\\n",
    "--o-filter-stats filt_stats.qza \\\n",
    "--o-filtered-sequences paired_reads_qza/reads_trimmed_joined_filt.qza"
   ]
  },
  {
   "cell_type": "markdown",
   "metadata": {},
   "source": [
    "### Deblur Workflow\n",
    "\n",
    "This workflow is 16S sequences, for other amplicon regions, you can use the denoise-other option in the command and specify a reference database.\n",
    "\n",
    "Note that you will need to trim all sequences to the same length with the --p-trim-length option. In order to determine the correct length to trim down to, run the following QC:"
   ]
  },
  {
   "cell_type": "markdown",
   "metadata": {},
   "source": [
    "### To find appropriate deblur parameters we need to summarize our joined reads"
   ]
  },
  {
   "cell_type": "code",
   "execution_count": 8,
   "metadata": {},
   "outputs": [
    {
     "name": "stdout",
     "output_type": "stream",
     "text": [
      "\u001b[32mSaved Visualization to: reads_trimmed_joined_filt_summary.qzv\u001b[0m\r\n"
     ]
    }
   ],
   "source": [
    "!qiime demux summarize \\\n",
    "--i-data paired_reads_qza/reads_trimmed_joined_filt.qza \\\n",
    "--o-visualization reads_trimmed_joined_filt_summary.qzv"
   ]
  },
  {
   "cell_type": "markdown",
   "metadata": {},
   "source": [
    "### View the obtained visualization"
   ]
  },
  {
   "cell_type": "code",
   "execution_count": 9,
   "metadata": {
    "scrolled": false
   },
   "outputs": [
    {
     "name": "stdout",
     "output_type": "stream",
     "text": [
      "Press the 'q' key, Control-C, or Control-D to quit. This view may no longer be accessible or work correctly after quitting.[22489:22509:1125/171926.327397:ERROR:browser_process_sub_thread.cc(203)] Waited 8 ms for network service\n",
      "Opening in existing browser session.\n",
      "\n",
      "Press the 'q' key, Control-C, or Control-D to quit. This view may no longer be accessible or work correctly after quitting."
     ]
    }
   ],
   "source": [
    "!qiime tools view reads_trimmed_joined_filt_summary.qzv"
   ]
  },
  {
   "cell_type": "markdown",
   "metadata": {},
   "source": [
    "### Qiime help on importing/exporting/viewing artefacts"
   ]
  },
  {
   "cell_type": "code",
   "execution_count": 17,
   "metadata": {},
   "outputs": [],
   "source": [
    "#!qiime tools --help"
   ]
  },
  {
   "cell_type": "markdown",
   "metadata": {},
   "source": [
    "### Explore provenance w/ https://view.qiime2.org"
   ]
  },
  {
   "cell_type": "markdown",
   "metadata": {},
   "source": [
    "#### Showing on denoise-16S"
   ]
  },
  {
   "cell_type": "code",
   "execution_count": 18,
   "metadata": {
    "scrolled": false
   },
   "outputs": [],
   "source": [
    "#!qiime deblur denoise-16S --help"
   ]
  },
  {
   "cell_type": "markdown",
   "metadata": {},
   "source": [
    "### Denoising w/ deblur\n",
    "* Here I'm using the default behaviour of --p-min-reads = 5\n",
    "* Changed min reads here 10-> to be more sensitive\n",
    "* Reads are trimmed to 401nt which retains is at least 98% of the reads<br>\n",
    "(this step may take a while depending on the size of your data ...)"
   ]
  },
  {
   "cell_type": "code",
   "execution_count": 10,
   "metadata": {},
   "outputs": [
    {
     "name": "stdout",
     "output_type": "stream",
     "text": [
      "\u001b[32mSaved FeatureTable[Frequency] to: deblur_output/table.qza\u001b[0m\n",
      "\u001b[32mSaved FeatureData[Sequence] to: deblur_output/representative_sequences.qza\u001b[0m\n",
      "\u001b[32mSaved DeblurStats to: deblur_output/stats.qza\u001b[0m\n"
     ]
    }
   ],
   "source": [
    "!qiime deblur denoise-16S \\\n",
    "--i-demultiplexed-seqs paired_reads_qza/reads_trimmed_joined_filt.qza \\\n",
    "--p-trim-length 401 \\\n",
    "--p-sample-stats \\\n",
    "--p-jobs-to-start 7 \\\n",
    "--p-min-reads 5 \\\n",
    "--output-dir deblur_output"
   ]
  },
  {
   "cell_type": "markdown",
   "metadata": {},
   "source": [
    "### Output is saved in the deblur_output folder\n",
    "#### let's summarise our deblur output"
   ]
  },
  {
   "cell_type": "code",
   "execution_count": 11,
   "metadata": {},
   "outputs": [
    {
     "name": "stdout",
     "output_type": "stream",
     "text": [
      "\u001b[32mSaved Visualization to: deblur_output/deblur-stats.qzv\u001b[0m\r\n"
     ]
    }
   ],
   "source": [
    "!qiime deblur visualize-stats \\\n",
    "  --i-deblur-stats deblur_output/stats.qza \\\n",
    "  --o-visualization deblur_output/deblur-stats.qzv"
   ]
  },
  {
   "cell_type": "code",
   "execution_count": 12,
   "metadata": {
    "scrolled": true
   },
   "outputs": [
    {
     "name": "stdout",
     "output_type": "stream",
     "text": [
      "Press the 'q' key, Control-C, or Control-D to quit. This view may no longer be accessible or work correctly after quitting.[26606:26625:1125/172405.338053:ERROR:browser_process_sub_thread.cc(203)] Waited 3 ms for network service\n",
      "Opening in existing browser session.\n",
      "\n",
      "Press the 'q' key, Control-C, or Control-D to quit. This view may no longer be accessible or work correctly after quitting."
     ]
    }
   ],
   "source": [
    "!qiime tools view deblur_output/deblur-stats.qzv"
   ]
  },
  {
   "cell_type": "code",
   "execution_count": 13,
   "metadata": {},
   "outputs": [
    {
     "name": "stdout",
     "output_type": "stream",
     "text": [
      "\u001b[32mSaved Visualization to: deblur_output/deblur_table_summary.qzv\u001b[0m\r\n"
     ]
    }
   ],
   "source": [
    "!qiime feature-table summarize \\\n",
    "--i-table deblur_output/table.qza \\\n",
    "--o-visualization deblur_output/deblur_table_summary.qzv"
   ]
  },
  {
   "cell_type": "code",
   "execution_count": 14,
   "metadata": {},
   "outputs": [
    {
     "name": "stdout",
     "output_type": "stream",
     "text": [
      "Press the 'q' key, Control-C, or Control-D to quit. This view may no longer be accessible or work correctly after quitting.[27159:27159:1125/172551.944131:ERROR:sandbox_linux.cc(369)] InitializeSandbox() called with multiple threads in process gpu-process.\n",
      "[27121:27140:1125/172551.958422:ERROR:browser_process_sub_thread.cc(203)] Waited 3 ms for network service\n",
      "Opening in existing browser session.\n",
      "\n",
      "Press the 'q' key, Control-C, or Control-D to quit. This view may no longer be accessible or work correctly after quitting."
     ]
    }
   ],
   "source": [
    "!qiime tools view deblur_output/deblur_table_summary.qzv"
   ]
  },
  {
   "cell_type": "markdown",
   "metadata": {},
   "source": [
    "### Tabulate representative sequences"
   ]
  },
  {
   "cell_type": "code",
   "execution_count": 15,
   "metadata": {},
   "outputs": [
    {
     "name": "stdout",
     "output_type": "stream",
     "text": [
      "\u001b[32mSaved Visualization to: representative_sequences.qzv\u001b[0m\r\n"
     ]
    }
   ],
   "source": [
    "!qiime feature-table tabulate-seqs \\\n",
    "  --i-data deblur_output/representative_sequences.qza \\\n",
    "  --o-visualization representative_sequences.qzv"
   ]
  },
  {
   "cell_type": "code",
   "execution_count": 16,
   "metadata": {
    "scrolled": true
   },
   "outputs": [
    {
     "name": "stdout",
     "output_type": "stream",
     "text": [
      "Press the 'q' key, Control-C, or Control-D to quit. This view may no longer be accessible or work correctly after quitting.[27542:27561:1125/172647.434790:ERROR:browser_process_sub_thread.cc(203)] Waited 3 ms for network service\n",
      "Opening in existing browser session.\n",
      "\n",
      "Press the 'q' key, Control-C, or Control-D to quit. This view may no longer be accessible or work correctly after quitting."
     ]
    }
   ],
   "source": [
    "!qiime tools view representative_sequences.qzv"
   ]
  },
  {
   "cell_type": "markdown",
   "metadata": {},
   "source": [
    "## Building phylogeny with FastTree\n",
    "### Making multiple-sequence alignment\n",
    "\n",
    "We'll need to make a multiple-sequence alignment of the ASVs before running FastTree."
   ]
  },
  {
   "cell_type": "code",
   "execution_count": 17,
   "metadata": {},
   "outputs": [],
   "source": [
    "!mkdir fast_tree_out"
   ]
  },
  {
   "cell_type": "code",
   "execution_count": 18,
   "metadata": {},
   "outputs": [
    {
     "name": "stdout",
     "output_type": "stream",
     "text": [
      "\u001b[32mSaved FeatureData[AlignedSequence] to: fast_tree_out/rep_seqs_mafft.qza\u001b[0m\r\n"
     ]
    }
   ],
   "source": [
    "!qiime alignment mafft \\\n",
    "--i-sequences deblur_output/representative_sequences.qza \\\n",
    "--p-n-threads 8 \\\n",
    "--o-alignment fast_tree_out/rep_seqs_mafft.qza\n"
   ]
  },
  {
   "cell_type": "markdown",
   "metadata": {},
   "source": [
    "### Filtering multiple-sequence alignment\n",
    "\n",
    "Variable positions in the alignment need to be masked before FastTree is run, which can be done with this command:"
   ]
  },
  {
   "cell_type": "code",
   "execution_count": 19,
   "metadata": {},
   "outputs": [
    {
     "name": "stdout",
     "output_type": "stream",
     "text": [
      "\u001b[32mSaved FeatureData[AlignedSequence] to: fast_tree_out/rep_seqs_mafft_masked.qza\u001b[0m\r\n"
     ]
    }
   ],
   "source": [
    "!qiime alignment mask --i-alignment fast_tree_out/rep_seqs_mafft.qza \\\n",
    "  --o-masked-alignment fast_tree_out/rep_seqs_mafft_masked.qza"
   ]
  },
  {
   "cell_type": "markdown",
   "metadata": {},
   "source": [
    "### Running FastTree\n",
    "\n",
    "Finally FastTree can be run on this masked multiple-sequence alignment:"
   ]
  },
  {
   "cell_type": "code",
   "execution_count": 20,
   "metadata": {},
   "outputs": [
    {
     "name": "stdout",
     "output_type": "stream",
     "text": [
      "\u001b[32mSaved Phylogeny[Unrooted] to: fast_tree_out/rep_seqs_aligned_masked_tree.qza\u001b[0m\r\n"
     ]
    }
   ],
   "source": [
    "!qiime phylogeny fasttree \\\n",
    "--i-alignment fast_tree_out/rep_seqs_mafft_masked.qza \\\n",
    "--p-n-threads 4 \\\n",
    "--o-tree fast_tree_out/rep_seqs_aligned_masked_tree"
   ]
  },
  {
   "cell_type": "markdown",
   "metadata": {},
   "source": [
    "### Make a rooted tree\n",
    "\n",
    "Use midpoint root"
   ]
  },
  {
   "cell_type": "code",
   "execution_count": 21,
   "metadata": {},
   "outputs": [
    {
     "name": "stdout",
     "output_type": "stream",
     "text": [
      "\u001b[32mSaved Phylogeny[Rooted] to: fast_tree_out/rep_seqs_mafft_masked_tree_rooted.qza\u001b[0m\r\n"
     ]
    }
   ],
   "source": [
    "!qiime phylogeny midpoint-root \\\n",
    "--i-tree fast_tree_out/rep_seqs_aligned_masked_tree.qza \\\n",
    "--o-rooted-tree fast_tree_out/rep_seqs_mafft_masked_tree_rooted.qza"
   ]
  },
  {
   "cell_type": "markdown",
   "metadata": {},
   "source": [
    "### Generate rarefaction curves\n",
    "\n",
    "* Useful QC step\n",
    "* Determine maximum depth for the rarefaction using following (I'm using 8000):\n"
   ]
  },
  {
   "cell_type": "code",
   "execution_count": 31,
   "metadata": {},
   "outputs": [
    {
     "name": "stdout",
     "output_type": "stream",
     "text": [
      "Press the 'q' key, Control-C, or Control-D to quit. This view may no longer be accessible or work correctly after quitting.[2994:3013:1021/091330.986511:ERROR:browser_process_sub_thread.cc(203)] Waited 5 ms for network service\n",
      "Opening in existing browser session.\n",
      "\n",
      "Press the 'q' key, Control-C, or Control-D to quit. This view may no longer be accessible or work correctly after quitting."
     ]
    }
   ],
   "source": [
    "!qiime tools view deblur_output/deblur_table_summary.qzv"
   ]
  },
  {
   "cell_type": "code",
   "execution_count": 32,
   "metadata": {},
   "outputs": [],
   "source": [
    "#!qiime diversity alpha-rarefaction --help"
   ]
  },
  {
   "cell_type": "code",
   "execution_count": 22,
   "metadata": {},
   "outputs": [
    {
     "name": "stdout",
     "output_type": "stream",
     "text": [
      "\u001b[32mSaved Visualization to: rarefaction_curves.qzv\u001b[0m\r\n"
     ]
    }
   ],
   "source": [
    "!qiime diversity alpha-rarefaction \\\n",
    "--i-table deblur_output/table.qza \\\n",
    "--p-max-depth 15000 \\\n",
    "--p-metrics simpson \\\n",
    "--p-metrics faith_pd \\\n",
    "--p-metrics dominance \\\n",
    "--p-metrics chao1 \\\n",
    "--p-metrics observed_otus \\\n",
    "--p-metrics shannon \\\n",
    "--p-steps 20 \\\n",
    "--i-phylogeny fast_tree_out/rep_seqs_mafft_masked_tree_rooted.qza \\\n",
    "--o-visualization rarefaction_curves.qzv"
   ]
  },
  {
   "cell_type": "code",
   "execution_count": 23,
   "metadata": {
    "scrolled": false
   },
   "outputs": [
    {
     "name": "stdout",
     "output_type": "stream",
     "text": [
      "Press the 'q' key, Control-C, or Control-D to quit. This view may no longer be accessible or work correctly after quitting.[28603:28622:1125/173013.208917:ERROR:browser_process_sub_thread.cc(203)] Waited 3 ms for network service\n",
      "Opening in existing browser session.\n",
      "\n",
      "Press the 'q' key, Control-C, or Control-D to quit. This view may no longer be accessible or work correctly after quitting."
     ]
    }
   ],
   "source": [
    "!qiime tools view rarefaction_curves.qzv"
   ]
  },
  {
   "cell_type": "markdown",
   "metadata": {},
   "source": [
    "### Using metadata w\\ rarefaction"
   ]
  },
  {
   "cell_type": "code",
   "execution_count": 29,
   "metadata": {},
   "outputs": [
    {
     "name": "stdout",
     "output_type": "stream",
     "text": [
      "\u001b[32mSaved Visualization to: rarefaction_metadata_curves.qzv\u001b[0m\r\n"
     ]
    }
   ],
   "source": [
    "!qiime diversity alpha-rarefaction \\\n",
    "--i-table deblur_output/table.qza \\\n",
    "--p-max-depth 15000 \\\n",
    "--p-steps 20 \\\n",
    "--i-phylogeny fast_tree_out/rep_seqs_mafft_masked_tree_rooted.qza \\\n",
    "--m-metadata-file $metadata \\\n",
    "--o-visualization rarefaction_metadata_curves.qzv"
   ]
  },
  {
   "cell_type": "code",
   "execution_count": 30,
   "metadata": {},
   "outputs": [
    {
     "name": "stdout",
     "output_type": "stream",
     "text": [
      "Press the 'q' key, Control-C, or Control-D to quit. This view may no longer be accessible or work correctly after quitting.[29460:29479:1125/173418.547533:ERROR:browser_process_sub_thread.cc(203)] Waited 3 ms for network service\n",
      "Opening in existing browser session.\n",
      "\n",
      "Press the 'q' key, Control-C, or Control-D to quit. This view may no longer be accessible or work correctly after quitting."
     ]
    }
   ],
   "source": [
    "!qiime tools view rarefaction_metadata_curves.qzv"
   ]
  },
  {
   "cell_type": "markdown",
   "metadata": {},
   "source": [
    "### Filtering out samples if needed"
   ]
  },
  {
   "cell_type": "code",
   "execution_count": 124,
   "metadata": {},
   "outputs": [
    {
     "name": "stdout",
     "output_type": "stream",
     "text": [
      "\u001b[32mSaved FeatureTable[Frequency] to: id-filtered-deblur-table.qza\u001b[0m\r\n"
     ]
    }
   ],
   "source": [
    "# !echo SampleID > samples-to-exclude.tsv\n",
    "# !echo nm1-9a >> samples-to-exclude.tsv\n",
    "# !echo o1 >> samples-to-exclude.tsv\n",
    "# !echo o29 >> samples-to-exclude.tsv\n",
    "# !echo o20 >> samples-to-exclude.tsv\n",
    "# !echo o7 >> samples-to-exclude.tsv\n",
    "\n",
    "# !qiime feature-table filter-samples \\\n",
    "#   --p-exclude-ids \\\n",
    "#   --i-table deblur_output/table.qza \\\n",
    "#   --m-metadata-file samples-to-exclude.tsv \\\n",
    "#   --o-filtered-table id-filtered-deblur-table.qza\n"
   ]
  },
  {
   "cell_type": "markdown",
   "metadata": {},
   "source": [
    "## Assign taxonomy\n",
    "* Could be assigned to ASVs using a Naive-Bayes classifier\n",
    "* This classifier was trained using SILVA 132 database and is specific for v3v4 region\n",
    "* Contains edits for WPS-2 (Rubrimentifilales and AS-11)\n",
    "* Could be trained <i>de novo</i>, but RAM intensive\n",
    "* Qiime version sensitive\n",
    "\n",
    "(this step may take a long time to complete ...)"
   ]
  },
  {
   "cell_type": "code",
   "execution_count": 31,
   "metadata": {},
   "outputs": [
    {
     "name": "stdout",
     "output_type": "stream",
     "text": [
      "\u001b[32mSaved FeatureData[Taxonomy] to: taxonomy/classification.qza\u001b[0m\r\n"
     ]
    }
   ],
   "source": [
    "!qiime feature-classifier classify-sklearn \\\n",
    "--i-reads deblur_output/representative_sequences.qza \\\n",
    "--i-classifier $classifier \\\n",
    "--output-dir taxonomy"
   ]
  },
  {
   "cell_type": "markdown",
   "metadata": {},
   "source": [
    "### Our taxonomy folder now contains classification.qza file\n",
    "let's explore the results..\n",
    "\n",
    "#### Following command export the classification as a tsv-file\n"
   ]
  },
  {
   "cell_type": "code",
   "execution_count": 32,
   "metadata": {},
   "outputs": [
    {
     "name": "stdout",
     "output_type": "stream",
     "text": [
      "\u001b[32mExported taxonomy/classification.qza as TSVTaxonomyDirectoryFormat to directory taxonomy\u001b[0m\r\n"
     ]
    }
   ],
   "source": [
    "!qiime tools export --input-path taxonomy/classification.qza --output-path taxonomy"
   ]
  },
  {
   "cell_type": "markdown",
   "metadata": {},
   "source": [
    "### At last..., Our Beloved Bar-Chart :)"
   ]
  },
  {
   "cell_type": "code",
   "execution_count": 33,
   "metadata": {},
   "outputs": [
    {
     "name": "stdout",
     "output_type": "stream",
     "text": [
      "\u001b[32mSaved Visualization to: taxonomy/taxa_barplot.qzv\u001b[0m\r\n"
     ]
    }
   ],
   "source": [
    "!qiime taxa barplot \\\n",
    "--i-table deblur_output/table.qza \\\n",
    "--i-taxonomy taxonomy/classification.qza \\\n",
    "--m-metadata-file $metadata \\\n",
    "--o-visualization taxonomy/taxa_barplot.qzv"
   ]
  },
  {
   "cell_type": "code",
   "execution_count": 34,
   "metadata": {},
   "outputs": [
    {
     "name": "stdout",
     "output_type": "stream",
     "text": [
      "Press the 'q' key, Control-C, or Control-D to quit. This view may no longer be accessible or work correctly after quitting.[10032:10032:1125/184510.740856:ERROR:sandbox_linux.cc(369)] InitializeSandbox() called with multiple threads in process gpu-process.\n",
      "[9981:10012:1125/184510.853767:ERROR:browser_process_sub_thread.cc(203)] Waited 3 ms for network service\n",
      "Opening in existing browser session.\n",
      "\n",
      "Press the 'q' key, Control-C, or Control-D to quit. This view may no longer be accessible or work correctly after quitting."
     ]
    }
   ],
   "source": [
    "!qiime tools view taxonomy/taxa_barplot.qzv"
   ]
  },
  {
   "cell_type": "markdown",
   "metadata": {},
   "source": [
    "## Finally, let's calculate core diversity metrics\n",
    "* For this step we need to select a reasonable rarefaction value\n",
    "* Let's have a look at our FeatureTable again"
   ]
  },
  {
   "cell_type": "markdown",
   "metadata": {},
   "source": [
    "#### 400 seems to be a good number in this case, we are loosing only 2 samples"
   ]
  },
  {
   "cell_type": "code",
   "execution_count": 37,
   "metadata": {},
   "outputs": [
    {
     "name": "stdout",
     "output_type": "stream",
     "text": [
      "\u001b[32mSaved FeatureTable[Frequency] to: core-metrics/rarefied_table.qza\u001b[0m\n",
      "\u001b[32mSaved SampleData[AlphaDiversity] % Properties('phylogenetic') to: core-metrics/faith_pd_vector.qza\u001b[0m\n",
      "\u001b[32mSaved SampleData[AlphaDiversity] to: core-metrics/observed_otus_vector.qza\u001b[0m\n",
      "\u001b[32mSaved SampleData[AlphaDiversity] to: core-metrics/shannon_vector.qza\u001b[0m\n",
      "\u001b[32mSaved SampleData[AlphaDiversity] to: core-metrics/evenness_vector.qza\u001b[0m\n",
      "\u001b[32mSaved DistanceMatrix % Properties('phylogenetic') to: core-metrics/unweighted_unifrac_distance_matrix.qza\u001b[0m\n",
      "\u001b[32mSaved DistanceMatrix % Properties('phylogenetic') to: core-metrics/weighted_unifrac_distance_matrix.qza\u001b[0m\n",
      "\u001b[32mSaved DistanceMatrix to: core-metrics/jaccard_distance_matrix.qza\u001b[0m\n",
      "\u001b[32mSaved DistanceMatrix to: core-metrics/bray_curtis_distance_matrix.qza\u001b[0m\n",
      "\u001b[32mSaved PCoAResults to: core-metrics/unweighted_unifrac_pcoa_results.qza\u001b[0m\n",
      "\u001b[32mSaved PCoAResults to: core-metrics/weighted_unifrac_pcoa_results.qza\u001b[0m\n",
      "\u001b[32mSaved PCoAResults to: core-metrics/jaccard_pcoa_results.qza\u001b[0m\n",
      "\u001b[32mSaved PCoAResults to: core-metrics/bray_curtis_pcoa_results.qza\u001b[0m\n",
      "\u001b[32mSaved Visualization to: core-metrics/unweighted_unifrac_emperor.qzv\u001b[0m\n",
      "\u001b[32mSaved Visualization to: core-metrics/weighted_unifrac_emperor.qzv\u001b[0m\n",
      "\u001b[32mSaved Visualization to: core-metrics/jaccard_emperor.qzv\u001b[0m\n",
      "\u001b[32mSaved Visualization to: core-metrics/bray_curtis_emperor.qzv\u001b[0m\n"
     ]
    }
   ],
   "source": [
    "!qiime diversity core-metrics-phylogenetic \\\n",
    "--i-phylogeny fast_tree_out/rep_seqs_mafft_masked_tree_rooted.qza \\\n",
    "--i-table deblur_output/table.qza \\\n",
    "--p-sampling-depth 2000 \\\n",
    "--m-metadata-file $metadata \\\n",
    "--output-dir core-metrics"
   ]
  },
  {
   "cell_type": "markdown",
   "metadata": {},
   "source": [
    "#### let's view an ordination plot"
   ]
  },
  {
   "cell_type": "code",
   "execution_count": 38,
   "metadata": {
    "scrolled": true
   },
   "outputs": [
    {
     "name": "stdout",
     "output_type": "stream",
     "text": [
      "Press the 'q' key, Control-C, or Control-D to quit. This view may no longer be accessible or work correctly after quitting.[15892:15911:1125/191936.777783:ERROR:browser_process_sub_thread.cc(203)] Waited 7 ms for network service\n",
      "Opening in existing browser session.\n",
      "\n",
      "Press the 'q' key, Control-C, or Control-D to quit. This view may no longer be accessible or work correctly after quitting."
     ]
    }
   ],
   "source": [
    "!qiime tools view core-metrics/weighted_unifrac_emperor.qzv"
   ]
  },
  {
   "cell_type": "markdown",
   "metadata": {},
   "source": [
    "### Alpha diversity group significance test\n",
    "* An example of just one metric"
   ]
  },
  {
   "cell_type": "code",
   "execution_count": 40,
   "metadata": {},
   "outputs": [
    {
     "name": "stdout",
     "output_type": "stream",
     "text": [
      "\u001b[32mSaved Visualization to: core-metrics/faith-pd-group-significance.qzv\u001b[0m\r\n"
     ]
    }
   ],
   "source": [
    "!qiime diversity alpha-group-significance \\\n",
    "--i-alpha-diversity core-metrics/faith_pd_vector.qza \\\n",
    "--m-metadata-file $metadata \\\n",
    "--o-visualization core-metrics/faith-pd-group-significance.qzv"
   ]
  },
  {
   "cell_type": "code",
   "execution_count": 41,
   "metadata": {},
   "outputs": [
    {
     "name": "stdout",
     "output_type": "stream",
     "text": [
      "Press the 'q' key, Control-C, or Control-D to quit. This view may no longer be accessible or work correctly after quitting.[16421:16440:1125/192100.919168:ERROR:browser_process_sub_thread.cc(203)] Waited 3 ms for network service\n",
      "Opening in existing browser session.\n",
      "\n",
      "Press the 'q' key, Control-C, or Control-D to quit. This view may no longer be accessible or work correctly after quitting."
     ]
    }
   ],
   "source": [
    "!qiime tools view core-metrics/faith-pd-group-significance.qzv"
   ]
  },
  {
   "cell_type": "markdown",
   "metadata": {},
   "source": [
    "### Beta diversity group significance test\n",
    "* lets test weighted unifrac"
   ]
  },
  {
   "cell_type": "code",
   "execution_count": 43,
   "metadata": {},
   "outputs": [
    {
     "name": "stdout",
     "output_type": "stream",
     "text": [
      "\u001b[32mSaved Visualization to: core-metrics/unweighted-unifrac-bodysite-significance.qzv\u001b[0m\r\n"
     ]
    }
   ],
   "source": [
    "!qiime diversity beta-group-significance \\\n",
    "--i-distance-matrix core-metrics/weighted_unifrac_distance_matrix.qza \\\n",
    "--m-metadata-file $metadata \\\n",
    "--m-metadata-column Source \\\n",
    "--p-pairwise \\\n",
    "--o-visualization core-metrics/unweighted-unifrac-bodysite-significance.qzv"
   ]
  },
  {
   "cell_type": "code",
   "execution_count": 44,
   "metadata": {
    "scrolled": true
   },
   "outputs": [
    {
     "name": "stdout",
     "output_type": "stream",
     "text": [
      "Press the 'q' key, Control-C, or Control-D to quit. This view may no longer be accessible or work correctly after quitting.[16981:17001:1125/192242.002044:ERROR:browser_process_sub_thread.cc(203)] Waited 3 ms for network service\n",
      "Opening in existing browser session.\n",
      "\n",
      "Press the 'q' key, Control-C, or Control-D to quit. This view may no longer be accessible or work correctly after quitting."
     ]
    }
   ],
   "source": [
    "!qiime tools view core-metrics/unweighted-unifrac-bodysite-significance.qzv"
   ]
  },
  {
   "cell_type": "markdown",
   "metadata": {},
   "source": [
    "## Bonus part: Exporting FeatureTables (biom files)\n",
    "* qiime2 keeps taxonomy separately\n",
    "* therefore exporting biom files with taxonomy needs some additional steps"
   ]
  },
  {
   "cell_type": "code",
   "execution_count": 45,
   "metadata": {},
   "outputs": [],
   "source": [
    "!sed -i -e '1 s/Feature/#OTUID/' -e '1 s/Taxon/taxonomy/' taxonomy/taxonomy.tsv"
   ]
  },
  {
   "cell_type": "code",
   "execution_count": 46,
   "metadata": {},
   "outputs": [
    {
     "name": "stdout",
     "output_type": "stream",
     "text": [
      "\u001b[32mExported deblur_output/table.qza as BIOMV210DirFmt to directory deblur-table-exported\u001b[0m\r\n"
     ]
    }
   ],
   "source": [
    "!qiime tools export \\\n",
    "--input-path deblur_output/table.qza \\\n",
    "--output-path deblur-table-exported"
   ]
  },
  {
   "cell_type": "code",
   "execution_count": 47,
   "metadata": {},
   "outputs": [],
   "source": [
    "!biom add-metadata \\\n",
    "-i deblur-table-exported/feature-table.biom \\\n",
    "-o deblur-table-exported/feature-table_w_tax.biom \\\n",
    "--observation-metadata-fp taxonomy/taxonomy.tsv \\\n",
    "--sc-separated taxonomy"
   ]
  },
  {
   "cell_type": "markdown",
   "metadata": {},
   "source": [
    "### And finally a familiar biom-convert :)"
   ]
  },
  {
   "cell_type": "code",
   "execution_count": 48,
   "metadata": {},
   "outputs": [],
   "source": [
    "!biom convert \\\n",
    "-i deblur-table-exported/feature-table_w_tax.biom \\\n",
    "-o deblur-table-exported/feature-table.tsv \\\n",
    "--to-tsv --header-key taxonomy"
   ]
  },
  {
   "cell_type": "code",
   "execution_count": null,
   "metadata": {},
   "outputs": [],
   "source": []
  },
  {
   "cell_type": "markdown",
   "metadata": {},
   "source": [
    "## Exporting w\\ fractions"
   ]
  },
  {
   "cell_type": "code",
   "execution_count": 49,
   "metadata": {},
   "outputs": [
    {
     "name": "stdout",
     "output_type": "stream",
     "text": [
      "\u001b[32mSaved FeatureTable[RelativeFrequency] to: frac-deblur-table.qza\u001b[0m\r\n"
     ]
    }
   ],
   "source": [
    "!qiime feature-table relative-frequency \\\n",
    "--i-table deblur_output/table.qza \\\n",
    "--o-relative-frequency-table frac-deblur-table.qza"
   ]
  },
  {
   "cell_type": "code",
   "execution_count": 50,
   "metadata": {},
   "outputs": [
    {
     "name": "stdout",
     "output_type": "stream",
     "text": [
      "\u001b[32mExported frac-deblur-table.qza as BIOMV210DirFmt to directory frac-deblur-table\u001b[0m\r\n"
     ]
    }
   ],
   "source": [
    "!qiime tools export --input-path frac-deblur-table.qza --output-path frac-deblur-table"
   ]
  },
  {
   "cell_type": "code",
   "execution_count": 51,
   "metadata": {},
   "outputs": [],
   "source": [
    "!biom add-metadata \\\n",
    "-i frac-deblur-table/feature-table.biom \\\n",
    "-o frac-deblur-table/feature-table_w_tax.biom \\\n",
    "--observation-metadata-fp taxonomy/taxonomy.tsv --sc-separated taxonomy"
   ]
  },
  {
   "cell_type": "code",
   "execution_count": 52,
   "metadata": {},
   "outputs": [],
   "source": [
    "!biom convert \\\n",
    "-i frac-deblur-table/feature-table_w_tax.biom \\\n",
    "-o frac-deblur-table/feature-table.tsv \\\n",
    "--to-tsv \\\n",
    "--header-key taxonomy"
   ]
  },
  {
   "cell_type": "markdown",
   "metadata": {},
   "source": [
    "## Making biom tables with fraciton by taxonomic level"
   ]
  },
  {
   "cell_type": "code",
   "execution_count": 19,
   "metadata": {},
   "outputs": [],
   "source": [
    "!mkdir taxa-levels"
   ]
  },
  {
   "cell_type": "markdown",
   "metadata": {},
   "source": [
    "## Level 2"
   ]
  },
  {
   "cell_type": "code",
   "execution_count": 20,
   "metadata": {},
   "outputs": [
    {
     "name": "stdout",
     "output_type": "stream",
     "text": [
      "\u001b[32mSaved FeatureTable[Frequency] to: taxa-levels/table-l2.qza\u001b[0m\r\n"
     ]
    }
   ],
   "source": [
    "!qiime taxa collapse \\\n",
    "--i-table deblur_output/table.qza \\\n",
    "--i-taxonomy taxonomy/classification.qza \\\n",
    "--p-level 2 \\\n",
    "--o-collapsed-table taxa-levels/table-l2.qza"
   ]
  },
  {
   "cell_type": "markdown",
   "metadata": {},
   "source": [
    "### convert counts to fractions"
   ]
  },
  {
   "cell_type": "code",
   "execution_count": 21,
   "metadata": {},
   "outputs": [
    {
     "name": "stdout",
     "output_type": "stream",
     "text": [
      "\u001b[32mSaved FeatureTable[RelativeFrequency] to: taxa-levels/frac-table-l2.qza\u001b[0m\r\n"
     ]
    }
   ],
   "source": [
    "!qiime feature-table relative-frequency \\\n",
    "--i-table taxa-levels/table-l2.qza \\\n",
    "--o-relative-frequency-table taxa-levels/frac-table-l2.qza"
   ]
  },
  {
   "cell_type": "markdown",
   "metadata": {},
   "source": [
    "### Convert to tsv w\\ taxonomy"
   ]
  },
  {
   "cell_type": "code",
   "execution_count": 22,
   "metadata": {},
   "outputs": [
    {
     "name": "stdout",
     "output_type": "stream",
     "text": [
      "\u001b[32mExported taxa-levels/frac-table-l2.qza as BIOMV210DirFmt to directory taxa-levels/frac-table-l2\u001b[0m\r\n"
     ]
    }
   ],
   "source": [
    "!qiime tools export \\\n",
    "--input-path taxa-levels/frac-table-l2.qza \\\n",
    "--output-path taxa-levels/frac-table-l2"
   ]
  },
  {
   "cell_type": "code",
   "execution_count": 23,
   "metadata": {},
   "outputs": [],
   "source": [
    "!biom convert \\\n",
    "-i taxa-levels/frac-table-l2/feature-table.biom \\\n",
    "-o taxa-levels/frac-table-l2/feature-table.tsv \\\n",
    "--to-tsv\n"
   ]
  },
  {
   "cell_type": "markdown",
   "metadata": {},
   "source": [
    "## Level 4"
   ]
  },
  {
   "cell_type": "code",
   "execution_count": 24,
   "metadata": {},
   "outputs": [
    {
     "name": "stdout",
     "output_type": "stream",
     "text": [
      "\u001b[32mSaved FeatureTable[Frequency] to: taxa-levels/table-l4.qza\u001b[0m\n",
      "\u001b[32mSaved FeatureTable[RelativeFrequency] to: taxa-levels/frac-table-l4.qza\u001b[0m\n",
      "\u001b[32mExported taxa-levels/frac-table-l4.qza as BIOMV210DirFmt to directory taxa-levels/frac-table-l4\u001b[0m\n"
     ]
    }
   ],
   "source": [
    "!qiime taxa collapse \\\n",
    "--i-table deblur_output/table.qza \\\n",
    "--i-taxonomy taxonomy/classification.qza \\\n",
    "--p-level 4 \\\n",
    "--o-collapsed-table taxa-levels/table-l4.qza\n",
    "\n",
    "!qiime feature-table relative-frequency \\\n",
    "--i-table taxa-levels/table-l4.qza \\\n",
    "--o-relative-frequency-table taxa-levels/frac-table-l4.qza\n",
    "\n",
    "!qiime tools export \\\n",
    "--input-path taxa-levels/frac-table-l4.qza \\\n",
    "--output-path taxa-levels/frac-table-l4\n",
    "\n",
    "!biom convert \\\n",
    "-i taxa-levels/frac-table-l4/feature-table.biom \\\n",
    "-o taxa-levels/frac-table-l4/feature-table.tsv \\\n",
    "--to-tsv\n"
   ]
  },
  {
   "cell_type": "markdown",
   "metadata": {},
   "source": [
    "## Good-bye!"
   ]
  }
 ],
 "metadata": {
  "ipub": {
   "titlepage": {
    "author": "Andriy Sheremet",
    "email": "andriy.sheremet@ucalgary.ca",
    "institution": "University of Calgary",
    "title": "qiime2 v.2019.4 lab tutorial"
   }
  },
  "kernelspec": {
   "display_name": "Python 3",
   "language": "python",
   "name": "python3"
  },
  "language_info": {
   "codemirror_mode": {
    "name": "ipython",
    "version": 3
   },
   "file_extension": ".py",
   "mimetype": "text/x-python",
   "name": "python",
   "nbconvert_exporter": "python",
   "pygments_lexer": "ipython3",
   "version": "3.6.7"
  }
 },
 "nbformat": 4,
 "nbformat_minor": 2
}
