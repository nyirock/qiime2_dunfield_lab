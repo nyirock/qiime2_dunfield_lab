{
 "cells": [
  {
   "cell_type": "markdown",
   "metadata": {},
   "source": [
    "# qiime2 v.2019.4 dunfield lab tutorial\n",
    "\n",
    "* Relative paths are used\n",
    "* All commands imply terminal is in the current working directory\n",
    "* Knowledge of linux terminal is highly incouraged"
   ]
  },
  {
   "cell_type": "markdown",
   "metadata": {},
   "source": [
    "## Activate qiime2 environment"
   ]
  },
  {
   "cell_type": "code",
   "execution_count": null,
   "metadata": {},
   "outputs": [],
   "source": [
    "!conda activate qiime2-2019.4"
   ]
  },
  {
   "cell_type": "markdown",
   "metadata": {},
   "source": [
    "## Optionally enable qiime-specific autocompletion"
   ]
  },
  {
   "cell_type": "code",
   "execution_count": null,
   "metadata": {},
   "outputs": [],
   "source": [
    "!source tab-qiime"
   ]
  },
  {
   "cell_type": "markdown",
   "metadata": {},
   "source": [
    "## Navigate to your working directory\n",
    "* qiime2_lab_tutorial already folder contains raw data\n",
    "* lab_pipeline folder contains trained NaiveBayes Classifier\n",
    "* mapping file\n",
    "\n",
    "Next step expects that the folder exists (example)"
   ]
  },
  {
   "cell_type": "code",
   "execution_count": null,
   "metadata": {},
   "outputs": [],
   "source": [
    "!cd ~/Desktop/qiime2_lab_tutorial/lab_pipeline"
   ]
  },
  {
   "cell_type": "markdown",
   "metadata": {},
   "source": [
    "## Let's view the directory content"
   ]
  },
  {
   "cell_type": "code",
   "execution_count": 7,
   "metadata": {},
   "outputs": [
    {
     "name": "stdout",
     "output_type": "stream",
     "text": [
      "total 216512\r\n",
      "-rwxrwxrwx 1 root root     51124 May 27 20:50 dunfield_lab_qiime2_pipeline.ipynb\r\n",
      "-rwxrwxrwx 1 root root      2580 Mar 25 12:39 mappingfile_upd4.csv\r\n",
      "-rwxrwxrwx 1 root root 221649684 May 18 09:59 v3v4_silva132_classifier_wps2_2groups.qza\r\n"
     ]
    }
   ],
   "source": [
    "!ls -l"
   ]
  },
  {
   "cell_type": "markdown",
   "metadata": {},
   "source": [
    "## Trim primers\n",
    "\n",
    "* Various primer trimming tools exist\n",
    "    * cutadapt\n",
    "    * bbmap\n",
    "    * qiime2 native tools\n",
    "    * trimmomatic\n",
    "    * manual removal...\n",
    "\n",
    "It is critical to remove non-biological sequences from the data.<br>\n",
    "We will remove our 16S V3-V4 region (Bacteria-specific primer set) primers sequences using cutadapt <br>\n",
    "* f-primer CCTACGGGNGGCWGCAG\n",
    "* r-primer GACTACHVGGGTATCTAATCC"
   ]
  },
  {
   "cell_type": "code",
   "execution_count": null,
   "metadata": {},
   "outputs": [],
   "source": []
  },
  {
   "cell_type": "markdown",
   "metadata": {},
   "source": [
    "### Making directories"
   ]
  },
  {
   "cell_type": "code",
   "execution_count": 8,
   "metadata": {},
   "outputs": [],
   "source": [
    "!mkdir primer_trimmed_fastqs; mkdir cutadapt_logs"
   ]
  },
  {
   "cell_type": "markdown",
   "metadata": {},
   "source": [
    "### Primer trimming w\\ cutadapt with a help of a little script :)\n",
    "#### ! Expects to contain our data in the <font color=red>raw_data</font> folder in a parent directory\n",
    "* cutadapt logs could be found ./primer_trimmed_fastqs/logs"
   ]
  },
  {
   "cell_type": "code",
   "execution_count": 9,
   "metadata": {
    "scrolled": false
   },
   "outputs": [],
   "source": [
    "%%bash\n",
    "for file1 in ../raw_data/*_R1_*.fastq.gz; do\n",
    "    file2=\"${file1%_R1_001.fastq.gz}_R2_001.fastq.gz\"\n",
    "    fname1=`basename $file1`\n",
    "    fname2=`basename $file2`\n",
    "    `cutadapt --pair-filter any -j 4 --no-indels --discard-untrimmed \\\n",
    "    -g CCTACGGGNGGCWGCAG -G GACTACHVGGGTATCTAATCC \\\n",
    "    -o primer_trimmed_fastqs/$fname1 -p primer_trimmed_fastqs/$fname2 \\\n",
    "    $file1 $file2 \\\n",
    "    > cutadapt_logs/${fname1}_cutadapt_log.txt`\n",
    "done"
   ]
  },
  {
   "cell_type": "markdown",
   "metadata": {},
   "source": [
    "## Import trimmed FASTQs as a QIIME2 artifact\n",
    "\n",
    "To keep the directory clean you can put the artifact files in a new directory"
   ]
  },
  {
   "cell_type": "code",
   "execution_count": 11,
   "metadata": {},
   "outputs": [],
   "source": [
    "!mkdir paired_reads_qza"
   ]
  },
  {
   "cell_type": "markdown",
   "metadata": {},
   "source": [
    "### Casava 1.8 single-end demultiplexed fastq\n",
    "Format description\n",
    "\n",
    "In the Casava 1.8 demultiplexed (single-end) format, there is one fastq.gz file for each sample in the study which contains the single-end reads for that sample. The file name includes the sample identifier and should look like L2S357_15_L001_R1_001.fastq.gz. The underscore-separated fields in this file name are:\n",
    "\n",
    "    the sample identifier,\n",
    "    the barcode sequence or a barcode identifier,\n",
    "    the lane number,\n",
    "    the direction of the read (i.e. only R1, because these are single-end reads), and\n",
    "    the set number.\n",
    "\n",
    "Obtaining example data"
   ]
  },
  {
   "cell_type": "markdown",
   "metadata": {},
   "source": [
    "### Importing..."
   ]
  },
  {
   "cell_type": "code",
   "execution_count": 12,
   "metadata": {},
   "outputs": [
    {
     "name": "stdout",
     "output_type": "stream",
     "text": [
      "\u001b[32mImported primer_trimmed_fastqs as CasavaOneEightSingleLanePerSampleDirFmt to paired_reads_qza/reads_trimmed.qza\u001b[0m\r\n"
     ]
    }
   ],
   "source": [
    "!qiime tools import --type SampleData[PairedEndSequencesWithQuality] \\\n",
    "                   --input-path primer_trimmed_fastqs \\\n",
    "                   --output-path paired_reads_qza/reads_trimmed.qza \\\n",
    "                   --input-format CasavaOneEightSingleLanePerSampleDirFmt"
   ]
  },
  {
   "cell_type": "markdown",
   "metadata": {},
   "source": [
    "* Our reads are now ready to be used by qiime2"
   ]
  },
  {
   "cell_type": "markdown",
   "metadata": {},
   "source": [
    "## Quality control w/ deblur:\n",
    "Currently deblur doesn't support paired-end reads <br>\n",
    "### Using VSEARCH for joining:"
   ]
  },
  {
   "cell_type": "code",
   "execution_count": 13,
   "metadata": {},
   "outputs": [
    {
     "name": "stdout",
     "output_type": "stream",
     "text": [
      "\u001b[32mSaved SampleData[JoinedSequencesWithQuality] to: paired_reads_qza/reads_trimmed_joined.qza\u001b[0m\r\n"
     ]
    }
   ],
   "source": [
    "!qiime vsearch join-pairs \\\n",
    "--i-demultiplexed-seqs paired_reads_qza/reads_trimmed.qza \\\n",
    "--o-joined-sequences paired_reads_qza/reads_trimmed_joined.qza"
   ]
  },
  {
   "cell_type": "markdown",
   "metadata": {},
   "source": [
    "### Filter out low-quality reads.\n",
    "\n",
    "This command will filter out low-quality reads based on the default options.<br>\n",
    "(this step may take a while)"
   ]
  },
  {
   "cell_type": "code",
   "execution_count": 15,
   "metadata": {},
   "outputs": [
    {
     "name": "stdout",
     "output_type": "stream",
     "text": [
      "\u001b[32mSaved SampleData[JoinedSequencesWithQuality] to: paired_reads_qza/reads_trimmed_joined_filt.qza\u001b[0m\r\n",
      "\u001b[32mSaved QualityFilterStats to: filt_stats.qza\u001b[0m\r\n"
     ]
    }
   ],
   "source": [
    "!qiime quality-filter q-score-joined \\\n",
    "--i-demux paired_reads_qza/reads_trimmed_joined.qza \\\n",
    "--o-filter-stats filt_stats.qza \\\n",
    "--o-filtered-sequences paired_reads_qza/reads_trimmed_joined_filt.qza"
   ]
  },
  {
   "cell_type": "markdown",
   "metadata": {},
   "source": [
    "### Deblur Workflow\n",
    "\n",
    "This workflow is 16S sequences, for other amplicon regions, you can use the denoise-other option in the command and specify a reference database.\n",
    "\n",
    "Note that you will need to trim all sequences to the same length with the --p-trim-length option. In order to determine the correct length to trim down to, run the following QC:"
   ]
  },
  {
   "cell_type": "markdown",
   "metadata": {},
   "source": [
    "### To find appropriate deblur parameters we need to summarize our joined reads"
   ]
  },
  {
   "cell_type": "code",
   "execution_count": 16,
   "metadata": {},
   "outputs": [
    {
     "name": "stdout",
     "output_type": "stream",
     "text": [
      "\u001b[32mSaved Visualization to: reads_trimmed_joined_filt_summary.qzv\u001b[0m\r\n"
     ]
    }
   ],
   "source": [
    "!qiime demux summarize \\\n",
    "--i-data paired_reads_qza/reads_trimmed_joined_filt.qza \\\n",
    "--o-visualization reads_trimmed_joined_filt_summary.qzv"
   ]
  },
  {
   "cell_type": "markdown",
   "metadata": {},
   "source": [
    "### View the obtained visualization"
   ]
  },
  {
   "cell_type": "code",
   "execution_count": 17,
   "metadata": {
    "scrolled": false
   },
   "outputs": [
    {
     "name": "stdout",
     "output_type": "stream",
     "text": [
      "Press the 'q' key, Control-C, or Control-D to quit. This view may no longer be accessible or work correctly after quitting.[8916:8916:0527/210335.038135:ERROR:sandbox_linux.cc(364)] InitializeSandbox() called with multiple threads in process gpu-process.\n",
      "[8870:8892:0527/210335.089703:ERROR:browser_process_sub_thread.cc(209)] Waited 5 ms for network service\n",
      "Opening in existing browser session.\n",
      "\n",
      "Press the 'q' key, Control-C, or Control-D to quit. This view may no longer be accessible or work correctly after quitting."
     ]
    }
   ],
   "source": [
    "!qiime tools view reads_trimmed_joined_filt_summary.qzv"
   ]
  },
  {
   "cell_type": "markdown",
   "metadata": {},
   "source": [
    "### Qiime help on importing/exporting/viewing artefacts"
   ]
  },
  {
   "cell_type": "code",
   "execution_count": 52,
   "metadata": {},
   "outputs": [
    {
     "name": "stdout",
     "output_type": "stream",
     "text": [
      "Usage: \u001b[34m\u001b[24mqiime tools\u001b[0m [OPTIONS] COMMAND [ARGS]...\r\n",
      "\r\n",
      "  Tools for working with QIIME 2 files.\r\n",
      "\r\n",
      "\u001b[1mOptions\u001b[0m:\r\n",
      "  \u001b[34m\u001b[24m--help\u001b[0m      Show this message and exit.\r\n",
      "\r\n",
      "\u001b[1mCommands\u001b[0m:\r\n",
      "  \u001b[34m\u001b[24mcitations\u001b[0m         Print citations for a QIIME 2 result.\r\n",
      "  \u001b[34m\u001b[24mexport\u001b[0m            Export data from a QIIME 2 Artifact or a Visualization\r\n",
      "  \u001b[34m\u001b[24mextract\u001b[0m           Extract a QIIME 2 Artifact or Visualization archive.\r\n",
      "  \u001b[34m\u001b[24mimport\u001b[0m            Import data into a new QIIME 2 Artifact.\r\n",
      "  \u001b[34m\u001b[24minspect-metadata\u001b[0m  Inspect columns available in metadata.\r\n",
      "  \u001b[34m\u001b[24mpeek\u001b[0m              Take a peek at a QIIME 2 Artifact or Visualization.\r\n",
      "  \u001b[34m\u001b[24mvalidate\u001b[0m          Validate data in a QIIME 2 Artifact.\r\n",
      "  \u001b[34m\u001b[24mview\u001b[0m              View a QIIME 2 Visualization.\r\n"
     ]
    }
   ],
   "source": [
    "!qiime tools --help"
   ]
  },
  {
   "cell_type": "markdown",
   "metadata": {},
   "source": [
    "### Explore provenance w/ https://view.qiime2.org"
   ]
  },
  {
   "cell_type": "markdown",
   "metadata": {},
   "source": [
    "#### Showing on denoise-16S"
   ]
  },
  {
   "cell_type": "code",
   "execution_count": 26,
   "metadata": {
    "scrolled": false
   },
   "outputs": [
    {
     "name": "stdout",
     "output_type": "stream",
     "text": [
      "Usage: \u001b[34m\u001b[24mqiime deblur denoise-16S\u001b[0m [OPTIONS]\r\n",
      "\r\n",
      "  Perform sequence quality control for Illumina data using the Deblur\r\n",
      "  workflow with a 16S reference as a positive filter. Only forward reads are\r\n",
      "  supported at this time. The specific reference used is the 88% OTUs from\r\n",
      "  Greengenes 13_8. This mode of operation should only be used when data were\r\n",
      "  generated from a 16S amplicon protocol on an Illumina platform. The\r\n",
      "  reference is only used to assess whether each sequence is likely to be 16S\r\n",
      "  by a local alignment using SortMeRNA with a permissive e-value; the\r\n",
      "  reference is not used to characterize the sequences.\r\n",
      "\r\n",
      "\u001b[1mInputs\u001b[0m:\r\n",
      "  \u001b[34m\u001b[4m--i-demultiplexed-seqs\u001b[0m ARTIFACT \u001b[32mSampleData[SequencesWithQuality |\u001b[0m\r\n",
      "    \u001b[32mPairedEndSequencesWithQuality | JoinedSequencesWithQuality]\u001b[0m\r\n",
      "                         The demultiplexed sequences to be denoised.\r\n",
      "                                                                    \u001b[35m[required]\u001b[0m\r\n",
      "\u001b[1mParameters\u001b[0m:\r\n",
      "  \u001b[34m\u001b[4m--p-trim-length\u001b[0m INTEGER\r\n",
      "                         Sequence trim length, specify -1 to disable\r\n",
      "                         trimming.                                  \u001b[35m[required]\u001b[0m\r\n",
      "  \u001b[34m\u001b[24m--p-left-trim-len\u001b[0m INTEGER\r\n",
      "    \u001b[32mRange(0, None)\u001b[0m       Sequence trimming from the 5' end. A value of 0 will\r\n",
      "                         disable this trim.                       \u001b[35m[default: 0]\u001b[0m\r\n",
      "  \u001b[34m\u001b[24m--p-sample-stats\u001b[0m / \u001b[34m\u001b[24m--p-no-sample-stats\u001b[0m\r\n",
      "                         If true, gather stats per sample.    \u001b[35m[default: False]\u001b[0m\r\n",
      "  \u001b[34m\u001b[24m--p-mean-error\u001b[0m NUMBER  The mean per nucleotide error, used for original\r\n",
      "                         sequence estimate.                   \u001b[35m[default: 0.005]\u001b[0m\r\n",
      "  \u001b[34m\u001b[24m--p-indel-prob\u001b[0m NUMBER  Insertion/deletion (indel) probability (same for N\r\n",
      "                         indels).                              \u001b[35m[default: 0.01]\u001b[0m\r\n",
      "  \u001b[34m\u001b[24m--p-indel-max\u001b[0m INTEGER  Maximum number of insertion/deletions.   \u001b[35m[default: 3]\u001b[0m\r\n",
      "  \u001b[34m\u001b[24m--p-min-reads\u001b[0m INTEGER  Retain only features appearing at least \u001b[4mmin-reads\u001b[0m\r\n",
      "                         times across all samples in the resulting feature\r\n",
      "                         table.                                  \u001b[35m[default: 10]\u001b[0m\r\n",
      "  \u001b[34m\u001b[24m--p-min-size\u001b[0m INTEGER   In each sample, discard all features with an\r\n",
      "                         abundance less than \u001b[4mmin-size\u001b[0m.            \u001b[35m[default: 2]\u001b[0m\r\n",
      "  \u001b[34m\u001b[24m--p-jobs-to-start\u001b[0m INTEGER\r\n",
      "                         Number of jobs to start (if to run in parallel).\r\n",
      "                                                                  \u001b[35m[default: 1]\u001b[0m\r\n",
      "  \u001b[34m\u001b[24m--p-hashed-feature-ids\u001b[0m / \u001b[34m\u001b[24m--p-no-hashed-feature-ids\u001b[0m\r\n",
      "                         If true, hash the feature IDs.        \u001b[35m[default: True]\u001b[0m\r\n",
      "\u001b[1mOutputs\u001b[0m:\r\n",
      "  \u001b[34m\u001b[4m--o-table\u001b[0m ARTIFACT \u001b[32mFeatureTable[Frequency]\u001b[0m\r\n",
      "                         The resulting denoised feature table.      \u001b[35m[required]\u001b[0m\r\n",
      "  \u001b[34m\u001b[4m--o-representative-sequences\u001b[0m ARTIFACT \u001b[32mFeatureData[Sequence]\u001b[0m\r\n",
      "                         The resulting feature sequences.           \u001b[35m[required]\u001b[0m\r\n",
      "  \u001b[34m\u001b[4m--o-stats\u001b[0m ARTIFACT     Per-sample stats if requested.\r\n",
      "    \u001b[32mDeblurStats\u001b[0m                                                     \u001b[35m[required]\u001b[0m\r\n",
      "\u001b[1mMiscellaneous\u001b[0m:\r\n",
      "  \u001b[34m\u001b[24m--output-dir\u001b[0m PATH      Output unspecified results to a directory\r\n",
      "  \u001b[34m\u001b[24m--verbose\u001b[0m / \u001b[34m\u001b[24m--quiet\u001b[0m    Display verbose output to stdout and/or stderr\r\n",
      "                         during execution of this action. Or silence output if\r\n",
      "                         execution is successful (silence is golden).\r\n",
      "  \u001b[34m\u001b[24m--citations\u001b[0m            Show citations and exit.\r\n",
      "  \u001b[34m\u001b[24m--help\u001b[0m                 Show this message and exit.\r\n"
     ]
    }
   ],
   "source": [
    "!qiime deblur denoise-16S --help"
   ]
  },
  {
   "cell_type": "markdown",
   "metadata": {},
   "source": [
    "### Denoising w/ deblur\n",
    "* Here I'm using a default behaviour of --p-min-reads = 10\n",
    "* Reads are trimmed to 402nt which retains is at least 98% of the reads<br>\n",
    "(this step may take a while depending on the size of your data ...)"
   ]
  },
  {
   "cell_type": "code",
   "execution_count": 18,
   "metadata": {},
   "outputs": [
    {
     "name": "stdout",
     "output_type": "stream",
     "text": [
      "\u001b[32mSaved FeatureTable[Frequency] to: deblur_output/table.qza\u001b[0m\n",
      "\u001b[32mSaved FeatureData[Sequence] to: deblur_output/representative_sequences.qza\u001b[0m\n",
      "\u001b[32mSaved DeblurStats to: deblur_output/stats.qza\u001b[0m\n"
     ]
    }
   ],
   "source": [
    "!qiime deblur denoise-16S \\\n",
    "--i-demultiplexed-seqs paired_reads_qza/reads_trimmed_joined_filt.qza \\\n",
    "--p-trim-length 402 \\\n",
    "--p-sample-stats \\\n",
    "--p-jobs-to-start 8 \\\n",
    "--p-min-reads 10 \\\n",
    "--output-dir deblur_output"
   ]
  },
  {
   "cell_type": "markdown",
   "metadata": {},
   "source": [
    "### Output is saved in the deblur_output folder\n",
    "#### let's summarise our deblur output"
   ]
  },
  {
   "cell_type": "code",
   "execution_count": 19,
   "metadata": {},
   "outputs": [
    {
     "name": "stdout",
     "output_type": "stream",
     "text": [
      "\u001b[32mSaved Visualization to: deblur_output/deblur-stats.qzv\u001b[0m\r\n"
     ]
    }
   ],
   "source": [
    "!qiime deblur visualize-stats \\\n",
    "  --i-deblur-stats deblur_output/stats.qza \\\n",
    "  --o-visualization deblur_output/deblur-stats.qzv"
   ]
  },
  {
   "cell_type": "code",
   "execution_count": 20,
   "metadata": {},
   "outputs": [
    {
     "name": "stdout",
     "output_type": "stream",
     "text": [
      "Press the 'q' key, Control-C, or Control-D to quit. This view may no longer be accessible or work correctly after quitting.[19774:19774:0527/211133.320546:ERROR:sandbox_linux.cc(364)] InitializeSandbox() called with multiple threads in process gpu-process.\n",
      "[19734:19755:0527/211133.338602:ERROR:browser_process_sub_thread.cc(209)] Waited 3 ms for network service\n",
      "Opening in existing browser session.\n",
      "\n",
      "Press the 'q' key, Control-C, or Control-D to quit. This view may no longer be accessible or work correctly after quitting."
     ]
    }
   ],
   "source": [
    "!qiime tools view deblur_output/deblur-stats.qzv"
   ]
  },
  {
   "cell_type": "code",
   "execution_count": 21,
   "metadata": {},
   "outputs": [
    {
     "name": "stdout",
     "output_type": "stream",
     "text": [
      "\u001b[32mSaved Visualization to: deblur_output/deblur_table_summary.qzv\u001b[0m\r\n"
     ]
    }
   ],
   "source": [
    "!qiime feature-table summarize \\\n",
    "--i-table deblur_output/table.qza \\\n",
    "--o-visualization deblur_output/deblur_table_summary.qzv"
   ]
  },
  {
   "cell_type": "code",
   "execution_count": 14,
   "metadata": {},
   "outputs": [
    {
     "name": "stdout",
     "output_type": "stream",
     "text": [
      "Press the 'q' key, Control-C, or Control-D to quit. This view may no longer be accessible or work correctly after quitting.[26457:26478:0527/212556.145422:ERROR:browser_process_sub_thread.cc(209)] Waited 3 ms for network service\n",
      "Opening in existing browser session.\n",
      "\n",
      "Press the 'q' key, Control-C, or Control-D to quit. This view may no longer be accessible or work correctly after quitting."
     ]
    }
   ],
   "source": [
    "!qiime tools view deblur_output/deblur_table_summary.qzv"
   ]
  },
  {
   "cell_type": "markdown",
   "metadata": {},
   "source": [
    "### Tabulate representative sequences"
   ]
  },
  {
   "cell_type": "code",
   "execution_count": 25,
   "metadata": {},
   "outputs": [
    {
     "name": "stdout",
     "output_type": "stream",
     "text": [
      "\u001b[32mSaved Visualization to: representative_sequences.qzv\u001b[0m\r\n"
     ]
    }
   ],
   "source": [
    "!qiime feature-table tabulate-seqs \\\n",
    "  --i-data deblur_output/representative_sequences.qza \\\n",
    "  --o-visualization representative_sequences.qzv"
   ]
  },
  {
   "cell_type": "code",
   "execution_count": 26,
   "metadata": {},
   "outputs": [
    {
     "name": "stdout",
     "output_type": "stream",
     "text": [
      "Press the 'q' key, Control-C, or Control-D to quit. This view may no longer be accessible or work correctly after quitting.[20669:20669:0527/211258.819190:ERROR:sandbox_linux.cc(364)] InitializeSandbox() called with multiple threads in process gpu-process.\n",
      "[20629:20650:0527/211258.842724:ERROR:browser_process_sub_thread.cc(209)] Waited 10 ms for network service\n",
      "Opening in existing browser session.\n",
      "\n",
      "Press the 'q' key, Control-C, or Control-D to quit. This view may no longer be accessible or work correctly after quitting."
     ]
    }
   ],
   "source": [
    "!qiime tools view representative_sequences.qzv"
   ]
  },
  {
   "cell_type": "markdown",
   "metadata": {},
   "source": [
    "## Building phylogeny with FastTree\n",
    "### Making multiple-sequence alignment\n",
    "\n",
    "We'll need to make a multiple-sequence alignment of the ASVs before running FastTree."
   ]
  },
  {
   "cell_type": "code",
   "execution_count": 1,
   "metadata": {},
   "outputs": [],
   "source": [
    "!mkdir fast_tree_out"
   ]
  },
  {
   "cell_type": "code",
   "execution_count": 3,
   "metadata": {},
   "outputs": [
    {
     "name": "stdout",
     "output_type": "stream",
     "text": [
      "\u001b[32mSaved FeatureData[AlignedSequence] to: fast_tree_out/rep_seqs_mafft.qza\u001b[0m\r\n"
     ]
    }
   ],
   "source": [
    "!qiime alignment mafft \\\n",
    "--i-sequences deblur_output/representative_sequences.qza \\\n",
    "--p-n-threads 8 \\\n",
    "--o-alignment fast_tree_out/rep_seqs_mafft.qza\n"
   ]
  },
  {
   "cell_type": "markdown",
   "metadata": {},
   "source": [
    "### Filtering multiple-sequence alignment\n",
    "\n",
    "Variable positions in the alignment need to be masked before FastTree is run, which can be done with this command:"
   ]
  },
  {
   "cell_type": "code",
   "execution_count": 9,
   "metadata": {},
   "outputs": [
    {
     "name": "stdout",
     "output_type": "stream",
     "text": [
      "\u001b[32mSaved FeatureData[AlignedSequence] to: fast_tree_out/rep_seqs_mafft_masked.qza\u001b[0m\r\n"
     ]
    }
   ],
   "source": [
    "!qiime alignment mask --i-alignment fast_tree_out/rep_seqs_mafft.qza \\\n",
    "  --o-masked-alignment fast_tree_out/rep_seqs_mafft_masked.qza"
   ]
  },
  {
   "cell_type": "markdown",
   "metadata": {},
   "source": [
    "### Running FastTree\n",
    "\n",
    "Finally FastTree can be run on this masked multiple-sequence alignment:"
   ]
  },
  {
   "cell_type": "code",
   "execution_count": 12,
   "metadata": {},
   "outputs": [
    {
     "name": "stdout",
     "output_type": "stream",
     "text": [
      "\u001b[32mSaved Phylogeny[Unrooted] to: fast_tree_out/rep_seqs_aligned_masked_tree.qza\u001b[0m\r\n"
     ]
    }
   ],
   "source": [
    "!qiime phylogeny fasttree \\\n",
    "--i-alignment fast_tree_out/rep_seqs_mafft_masked.qza \\\n",
    "--p-n-threads 4 \\\n",
    "--o-tree fast_tree_out/rep_seqs_aligned_masked_tree"
   ]
  },
  {
   "cell_type": "markdown",
   "metadata": {},
   "source": [
    "### Add root to tree\n",
    "\n",
    "Use midpoint root"
   ]
  },
  {
   "cell_type": "code",
   "execution_count": 13,
   "metadata": {},
   "outputs": [
    {
     "name": "stdout",
     "output_type": "stream",
     "text": [
      "\u001b[32mSaved Phylogeny[Rooted] to: fast_tree_out/rep_seqs_mafft_masked_tree_rooted.qza\u001b[0m\r\n"
     ]
    }
   ],
   "source": [
    "!qiime phylogeny midpoint-root \\\n",
    "--i-tree fast_tree_out/rep_seqs_aligned_masked_tree.qza \\\n",
    "--o-rooted-tree fast_tree_out/rep_seqs_mafft_masked_tree_rooted.qza"
   ]
  },
  {
   "cell_type": "markdown",
   "metadata": {},
   "source": [
    "### Generate rarefaction curves\n",
    "\n",
    "* Useful QC step\n",
    "* Determine maximum depth for the rarefaction using following (I'm using 8000):\n"
   ]
  },
  {
   "cell_type": "code",
   "execution_count": 15,
   "metadata": {},
   "outputs": [
    {
     "name": "stdout",
     "output_type": "stream",
     "text": [
      "Press the 'q' key, Control-C, or Control-D to quit. This view may no longer be accessible or work correctly after quitting.[26954:26954:0527/212715.122700:ERROR:sandbox_linux.cc(364)] InitializeSandbox() called with multiple threads in process gpu-process.\n",
      "[26915:26936:0527/212715.126015:ERROR:browser_process_sub_thread.cc(209)] Waited 8 ms for network service\n",
      "Opening in existing browser session.\n",
      "\n",
      "Press the 'q' key, Control-C, or Control-D to quit. This view may no longer be accessible or work correctly after quitting."
     ]
    }
   ],
   "source": [
    "!qiime tools view deblur_output/deblur_table_summary.qzv"
   ]
  },
  {
   "cell_type": "code",
   "execution_count": 22,
   "metadata": {},
   "outputs": [
    {
     "name": "stdout",
     "output_type": "stream",
     "text": [
      "Usage: \u001b[34m\u001b[24mqiime diversity alpha-rarefaction\u001b[0m [OPTIONS]\r\n",
      "\r\n",
      "  Generate interactive alpha rarefaction curves by computing rarefactions\r\n",
      "  between `min_depth` and `max_depth`. The number of intermediate depths to\r\n",
      "  compute is controlled by the `steps` parameter, with n `iterations` being\r\n",
      "  computed at each rarefaction depth. If sample metadata is provided,\r\n",
      "  samples may be grouped based on distinct values within a metadata column.\r\n",
      "\r\n",
      "\u001b[1mInputs\u001b[0m:\r\n",
      "  \u001b[34m\u001b[4m--i-table\u001b[0m ARTIFACT \u001b[32mFeatureTable[Frequency]\u001b[0m\r\n",
      "                          Feature table to compute rarefaction curves from.\r\n",
      "                                                                    \u001b[35m[required]\u001b[0m\r\n",
      "  \u001b[34m\u001b[24m--i-phylogeny\u001b[0m ARTIFACT  Optional phylogeny for phylogenetic metrics.\r\n",
      "    \u001b[32mPhylogeny[Rooted]\u001b[0m                                               \u001b[35m[optional]\u001b[0m\r\n",
      "\u001b[1mParameters\u001b[0m:\r\n",
      "  \u001b[34m\u001b[4m--p-max-depth\u001b[0m INTEGER   The maximum rarefaction depth. Must be greater than\r\n",
      "    \u001b[32mRange(1, None)\u001b[0m        \u001b[4mmin-depth\u001b[0m.                                \u001b[35m[required]\u001b[0m\r\n",
      "  \u001b[34m\u001b[24m--p-metrics\u001b[0m TEXT... \u001b[32mChoices('margalef', 'simpson',\u001b[0m\r\n",
      "    \u001b[32m'michaelis_menten_fit', 'simpson_e', 'gini_index', 'faith_pd',\u001b[0m\r\n",
      "    \u001b[32m'mcintosh_d', 'mcintosh_e', 'enspie', 'doubles', 'brillouin_d',\u001b[0m\r\n",
      "    \u001b[32m'goods_coverage', 'lladser_pe', 'ace', 'fisher_alpha', 'shannon',\u001b[0m\r\n",
      "    \u001b[32m'dominance', 'heip_e', 'pielou_e', 'chao1', 'robbins', 'menhinick',\u001b[0m\r\n",
      "    \u001b[32m'singles', 'berger_parker_d', 'observed_otus')\u001b[0m\r\n",
      "                          The metrics to be measured. By default computes\r\n",
      "                          observed_otus, shannon, and if phylogeny is\r\n",
      "                          provided, faith_pd.                       \u001b[35m[optional]\u001b[0m\r\n",
      "  \u001b[34m\u001b[24m--m-metadata-file\u001b[0m METADATA...\r\n",
      "    (multiple arguments   The sample metadata.\r\n",
      "     will be merged)                                                \u001b[35m[optional]\u001b[0m\r\n",
      "  \u001b[34m\u001b[24m--p-min-depth\u001b[0m INTEGER   The minimum rarefaction depth.\r\n",
      "    \u001b[32mRange(1, None)\u001b[0m                                                \u001b[35m[default: 1]\u001b[0m\r\n",
      "  \u001b[34m\u001b[24m--p-steps\u001b[0m INTEGER       The number of rarefaction depths to include between\r\n",
      "    \u001b[32mRange(2, None)\u001b[0m        \u001b[4mmin-depth\u001b[0m and \u001b[4mmax-depth\u001b[0m.               \u001b[35m[default: 10]\u001b[0m\r\n",
      "  \u001b[34m\u001b[24m--p-iterations\u001b[0m INTEGER  The number of rarefied feature tables to compute at\r\n",
      "    \u001b[32mRange(1, None)\u001b[0m        each step.                             \u001b[35m[default: 10]\u001b[0m\r\n",
      "\u001b[1mOutputs\u001b[0m:\r\n",
      "  \u001b[34m\u001b[4m--o-visualization\u001b[0m VISUALIZATION\r\n",
      "                                                                    \u001b[35m[required]\u001b[0m\r\n",
      "\u001b[1mMiscellaneous\u001b[0m:\r\n",
      "  \u001b[34m\u001b[24m--output-dir\u001b[0m PATH       Output unspecified results to a directory\r\n",
      "  \u001b[34m\u001b[24m--verbose\u001b[0m / \u001b[34m\u001b[24m--quiet\u001b[0m     Display verbose output to stdout and/or stderr\r\n",
      "                          during execution of this action. Or silence output\r\n",
      "                          if execution is successful (silence is golden).\r\n",
      "  \u001b[34m\u001b[24m--citations\u001b[0m             Show citations and exit.\r\n",
      "  \u001b[34m\u001b[24m--help\u001b[0m                  Show this message and exit.\r\n"
     ]
    }
   ],
   "source": [
    "!qiime diversity alpha-rarefaction --help"
   ]
  },
  {
   "cell_type": "code",
   "execution_count": 24,
   "metadata": {},
   "outputs": [
    {
     "name": "stdout",
     "output_type": "stream",
     "text": [
      "\u001b[32mSaved Visualization to: rarefaction_curves.qzv\u001b[0m\r\n"
     ]
    }
   ],
   "source": [
    "!qiime diversity alpha-rarefaction \\\n",
    "--i-table deblur_output/table.qza \\\n",
    "--p-max-depth 8000 \\\n",
    "--p-metrics simpson \\\n",
    "--p-metrics faith_pd \\\n",
    "--p-metrics dominance \\\n",
    "--p-metrics chao1 \\\n",
    "--p-metrics observed_otus \\\n",
    "--p-metrics shannon \\\n",
    "--p-steps 20 \\\n",
    "--i-phylogeny fast_tree_out/rep_seqs_mafft_masked_tree_rooted.qza \\\n",
    "--o-visualization rarefaction_curves.qzv"
   ]
  },
  {
   "cell_type": "code",
   "execution_count": 25,
   "metadata": {
    "scrolled": true
   },
   "outputs": [
    {
     "name": "stdout",
     "output_type": "stream",
     "text": [
      "Press the 'q' key, Control-C, or Control-D to quit. This view may no longer be accessible or work correctly after quitting.[28609:28609:0527/213539.402725:ERROR:sandbox_linux.cc(364)] InitializeSandbox() called with multiple threads in process gpu-process.\n",
      "[28570:28591:0527/213539.407075:ERROR:browser_process_sub_thread.cc(209)] Waited 5 ms for network service\n",
      "Opening in existing browser session.\n",
      "\n",
      "Press the 'q' key, Control-C, or Control-D to quit. This view may no longer be accessible or work correctly after quitting."
     ]
    }
   ],
   "source": [
    "!qiime tools view rarefaction_curves.qzv"
   ]
  },
  {
   "cell_type": "markdown",
   "metadata": {},
   "source": [
    "### Using metadata w\\ rarefaction"
   ]
  },
  {
   "cell_type": "code",
   "execution_count": 29,
   "metadata": {},
   "outputs": [
    {
     "name": "stdout",
     "output_type": "stream",
     "text": [
      "\u001b[31m\u001b[1mPlugin error from diversity:\r\n",
      "\r\n",
      "  The following IDs are not present in the metadata: 'nm1-9a', 'o1', 'o29'\r\n",
      "\r\n",
      "Debug info has been saved to /tmp/qiime2-q2cli-err-b4nza0qd.log\u001b[0m\r\n"
     ]
    }
   ],
   "source": [
    "!qiime diversity alpha-rarefaction \\\n",
    "--i-table deblur_output/table.qza \\\n",
    "--p-max-depth 8000 \\\n",
    "--p-steps 20 \\\n",
    "--i-phylogeny fast_tree_out/rep_seqs_mafft_masked_tree_rooted.qza \\\n",
    "--m-metadata-file mappingfile_upd4.csv \\\n",
    "--o-visualization rarefaction_metadata_curves.qzv"
   ]
  },
  {
   "cell_type": "markdown",
   "metadata": {},
   "source": [
    "### Ups! We seem to have an error\n",
    "* We need to remove those samples from FeatureTable\n",
    "* Also, we have 2 samples that contain no data, let's remove them as well"
   ]
  },
  {
   "cell_type": "code",
   "execution_count": 30,
   "metadata": {},
   "outputs": [],
   "source": [
    "!echo SampleID > samples-to-exclude.tsv\n",
    "!echo nm1-9a >> samples-to-exclude.tsv\n",
    "!echo o1 >> samples-to-exclude.tsv\n",
    "!echo o29 >> samples-to-exclude.tsv\n",
    "!echo o20 >> samples-to-exclude.tsv\n",
    "!echo o7 >> samples-to-exclude.tsv"
   ]
  },
  {
   "cell_type": "markdown",
   "metadata": {},
   "source": [
    "### Filtering out samples"
   ]
  },
  {
   "cell_type": "code",
   "execution_count": 31,
   "metadata": {},
   "outputs": [
    {
     "name": "stdout",
     "output_type": "stream",
     "text": [
      "\u001b[32mSaved FeatureTable[Frequency] to: id-filtered-deblur-table.qza\u001b[0m\r\n"
     ]
    }
   ],
   "source": [
    "!qiime feature-table filter-samples \\\n",
    "  --p-exclude-ids \\\n",
    "  --i-table deblur_output/table.qza \\\n",
    "  --m-metadata-file samples-to-exclude.tsv \\\n",
    "  --o-filtered-table id-filtered-deblur-table.qza\n"
   ]
  },
  {
   "cell_type": "markdown",
   "metadata": {},
   "source": [
    "### Let's run it again\n",
    "* Pay attention that we are supplying updated FeatureTable as its --i-table argument"
   ]
  },
  {
   "cell_type": "code",
   "execution_count": 32,
   "metadata": {
    "scrolled": false
   },
   "outputs": [
    {
     "name": "stdout",
     "output_type": "stream",
     "text": [
      "\u001b[32mSaved Visualization to: rarefaction_metadata_curves.qzv\u001b[0m\r\n"
     ]
    }
   ],
   "source": [
    "!qiime diversity alpha-rarefaction \\\n",
    "--i-table id-filtered-deblur-table.qza \\\n",
    "--p-max-depth 8000 \\\n",
    "--p-steps 20 \\\n",
    "--i-phylogeny fast_tree_out/rep_seqs_mafft_masked_tree_rooted.qza \\\n",
    "--m-metadata-file mappingfile_upd4.csv \\\n",
    "--o-visualization rarefaction_metadata_curves.qzv"
   ]
  },
  {
   "cell_type": "code",
   "execution_count": 33,
   "metadata": {},
   "outputs": [
    {
     "name": "stdout",
     "output_type": "stream",
     "text": [
      "Press the 'q' key, Control-C, or Control-D to quit. This view may no longer be accessible or work correctly after quitting.[658:658:0527/215802.451478:ERROR:sandbox_linux.cc(364)] InitializeSandbox() called with multiple threads in process gpu-process.\n",
      "[617:639:0527/215802.473356:ERROR:browser_process_sub_thread.cc(209)] Waited 9 ms for network service\n",
      "Opening in existing browser session.\n",
      "\n",
      "Press the 'q' key, Control-C, or Control-D to quit. This view may no longer be accessible or work correctly after quitting."
     ]
    }
   ],
   "source": [
    "!qiime tools view rarefaction_metadata_curves.qzv"
   ]
  },
  {
   "cell_type": "markdown",
   "metadata": {},
   "source": [
    "### Optional step to re-summarize our filtered FeatureTable"
   ]
  },
  {
   "cell_type": "code",
   "execution_count": 34,
   "metadata": {},
   "outputs": [
    {
     "name": "stdout",
     "output_type": "stream",
     "text": [
      "\u001b[32mSaved Visualization to: id-filtered-deblur-table.qzv\u001b[0m\r\n"
     ]
    }
   ],
   "source": [
    "!qiime feature-table summarize \\\n",
    "  --i-table id-filtered-deblur-table.qza \\\n",
    "  --o-visualization id-filtered-deblur-table.qzv \\\n",
    "  --m-sample-metadata-file mappingfile_upd4.csv\n"
   ]
  },
  {
   "cell_type": "code",
   "execution_count": 35,
   "metadata": {
    "scrolled": false
   },
   "outputs": [
    {
     "name": "stdout",
     "output_type": "stream",
     "text": [
      "Press the 'q' key, Control-C, or Control-D to quit. This view may no longer be accessible or work correctly after quitting.[1365:1365:0527/220124.952594:ERROR:sandbox_linux.cc(364)] InitializeSandbox() called with multiple threads in process gpu-process.\n",
      "[1315:1343:0527/220124.971747:ERROR:browser_process_sub_thread.cc(209)] Waited 3 ms for network service\n",
      "Opening in existing browser session.\n",
      "\n",
      "Press the 'q' key, Control-C, or Control-D to quit. This view may no longer be accessible or work correctly after quitting."
     ]
    }
   ],
   "source": [
    "!qiime tools view id-filtered-deblur-table.qzv"
   ]
  },
  {
   "cell_type": "markdown",
   "metadata": {},
   "source": [
    "## Assign taxonomy\n",
    "* Could be assigned to ASVs using a Naive-Bayes classifier\n",
    "* This classifier was trained using SILVA 132 database and is specific for v3v4 region\n",
    "* Contains edits for WPS-2 (Rubrimentifilales and AS-11)\n",
    "* Could be trained <i>de novo</i>, but RAM intensive\n",
    "* Qiime version sensitive\n",
    "\n",
    "(this step may take a long time to complete ...)"
   ]
  },
  {
   "cell_type": "code",
   "execution_count": 36,
   "metadata": {},
   "outputs": [
    {
     "name": "stdout",
     "output_type": "stream",
     "text": [
      "\u001b[32mSaved FeatureData[Taxonomy] to: taxa/classification.qza\u001b[0m\r\n"
     ]
    }
   ],
   "source": [
    "!qiime feature-classifier classify-sklearn \\\n",
    "--i-reads deblur_output/representative_sequences.qza \\\n",
    "--i-classifier v3v4_silva132_classifier_wps2_2groups.qza \\\n",
    "--output-dir taxonomy"
   ]
  },
  {
   "cell_type": "markdown",
   "metadata": {},
   "source": [
    "### Our taxonomy folder now contains classification.qza file\n",
    "let's explore the results..\n",
    "\n",
    "#### Following command export the classification as a tsv-file\n"
   ]
  },
  {
   "cell_type": "code",
   "execution_count": 37,
   "metadata": {},
   "outputs": [
    {
     "name": "stdout",
     "output_type": "stream",
     "text": [
      "\u001b[32mExported taxonomy/classification.qza as TSVTaxonomyDirectoryFormat to directory taxonomy\u001b[0m\r\n"
     ]
    }
   ],
   "source": [
    "!qiime tools export --input-path taxonomy/classification.qza --output-path taxonomy"
   ]
  },
  {
   "cell_type": "markdown",
   "metadata": {},
   "source": [
    "### At last..., Our Beloved Bar-Chart :)"
   ]
  },
  {
   "cell_type": "code",
   "execution_count": 38,
   "metadata": {},
   "outputs": [
    {
     "name": "stdout",
     "output_type": "stream",
     "text": [
      "\u001b[32mSaved Visualization to: taxonomy/taxa_barplot.qzv\u001b[0m\r\n"
     ]
    }
   ],
   "source": [
    "!qiime taxa barplot \\\n",
    "--i-table id-filtered-deblur-table.qza \\\n",
    "--i-taxonomy taxonomy/classification.qza \\\n",
    "--m-metadata-file mappingfile_upd4.csv \\\n",
    "--o-visualization taxonomy/taxa_barplot.qzv"
   ]
  },
  {
   "cell_type": "code",
   "execution_count": 39,
   "metadata": {},
   "outputs": [
    {
     "name": "stdout",
     "output_type": "stream",
     "text": [
      "Press the 'q' key, Control-C, or Control-D to quit. This view may no longer be accessible or work correctly after quitting.[10096:10122:0527/225735.024110:ERROR:browser_process_sub_thread.cc(209)] Waited 3 ms for network service\n",
      "Opening in existing browser session.\n",
      "\n",
      "Press the 'q' key, Control-C, or Control-D to quit. This view may no longer be accessible or work correctly after quitting."
     ]
    }
   ],
   "source": [
    "!qiime tools view taxonomy/taxa_barplot.qzv"
   ]
  },
  {
   "cell_type": "markdown",
   "metadata": {},
   "source": [
    "## Finally, let's calculate core diversity metrics\n",
    "* For this step we need to select a reasonable rarefaction value\n",
    "* Let's have a look at our FeatureTable again"
   ]
  },
  {
   "cell_type": "code",
   "execution_count": 40,
   "metadata": {},
   "outputs": [
    {
     "name": "stdout",
     "output_type": "stream",
     "text": [
      "Press the 'q' key, Control-C, or Control-D to quit. This view may no longer be accessible or work correctly after quitting.[11163:11184:0527/230408.762775:ERROR:browser_process_sub_thread.cc(209)] Waited 3 ms for network service\n",
      "Opening in existing browser session.\n",
      "\n",
      "Press the 'q' key, Control-C, or Control-D to quit. This view may no longer be accessible or work correctly after quitting."
     ]
    }
   ],
   "source": [
    "!qiime tools view id-filtered-deblur-table.qzv"
   ]
  },
  {
   "cell_type": "markdown",
   "metadata": {},
   "source": [
    "#### 400 seems to be a good number in this case, we are loosing only 2 samples"
   ]
  },
  {
   "cell_type": "code",
   "execution_count": 42,
   "metadata": {},
   "outputs": [
    {
     "name": "stdout",
     "output_type": "stream",
     "text": [
      "\u001b[32mSaved FeatureTable[Frequency] to: core-metrics/rarefied_table.qza\u001b[0m\n",
      "\u001b[32mSaved SampleData[AlphaDiversity] % Properties('phylogenetic') to: core-metrics/faith_pd_vector.qza\u001b[0m\n",
      "\u001b[32mSaved SampleData[AlphaDiversity] to: core-metrics/observed_otus_vector.qza\u001b[0m\n",
      "\u001b[32mSaved SampleData[AlphaDiversity] to: core-metrics/shannon_vector.qza\u001b[0m\n",
      "\u001b[32mSaved SampleData[AlphaDiversity] to: core-metrics/evenness_vector.qza\u001b[0m\n",
      "\u001b[32mSaved DistanceMatrix % Properties('phylogenetic') to: core-metrics/unweighted_unifrac_distance_matrix.qza\u001b[0m\n",
      "\u001b[32mSaved DistanceMatrix % Properties('phylogenetic') to: core-metrics/weighted_unifrac_distance_matrix.qza\u001b[0m\n",
      "\u001b[32mSaved DistanceMatrix to: core-metrics/jaccard_distance_matrix.qza\u001b[0m\n",
      "\u001b[32mSaved DistanceMatrix to: core-metrics/bray_curtis_distance_matrix.qza\u001b[0m\n",
      "\u001b[32mSaved PCoAResults to: core-metrics/unweighted_unifrac_pcoa_results.qza\u001b[0m\n",
      "\u001b[32mSaved PCoAResults to: core-metrics/weighted_unifrac_pcoa_results.qza\u001b[0m\n",
      "\u001b[32mSaved PCoAResults to: core-metrics/jaccard_pcoa_results.qza\u001b[0m\n",
      "\u001b[32mSaved PCoAResults to: core-metrics/bray_curtis_pcoa_results.qza\u001b[0m\n",
      "\u001b[32mSaved Visualization to: core-metrics/unweighted_unifrac_emperor.qzv\u001b[0m\n",
      "\u001b[32mSaved Visualization to: core-metrics/weighted_unifrac_emperor.qzv\u001b[0m\n",
      "\u001b[32mSaved Visualization to: core-metrics/jaccard_emperor.qzv\u001b[0m\n",
      "\u001b[32mSaved Visualization to: core-metrics/bray_curtis_emperor.qzv\u001b[0m\n"
     ]
    }
   ],
   "source": [
    "!qiime diversity core-metrics-phylogenetic \\\n",
    "--i-phylogeny fast_tree_out/rep_seqs_mafft_masked_tree_rooted.qza \\\n",
    "--i-table id-filtered-deblur-table.qza \\\n",
    "--p-sampling-depth 400 \\\n",
    "--m-metadata-file mappingfile_upd4.csv \\\n",
    "--output-dir core-metrics"
   ]
  },
  {
   "cell_type": "markdown",
   "metadata": {},
   "source": [
    "#### let's view an ordination plot"
   ]
  },
  {
   "cell_type": "code",
   "execution_count": 43,
   "metadata": {
    "scrolled": true
   },
   "outputs": [
    {
     "name": "stdout",
     "output_type": "stream",
     "text": [
      "Press the 'q' key, Control-C, or Control-D to quit. This view may no longer be accessible or work correctly after quitting.[11991:11991:0527/230830.276348:ERROR:sandbox_linux.cc(364)] InitializeSandbox() called with multiple threads in process gpu-process.\n",
      "[11950:11971:0527/230830.290089:ERROR:browser_process_sub_thread.cc(209)] Waited 3 ms for network service\n",
      "Opening in existing browser session.\n",
      "\n",
      "Press the 'q' key, Control-C, or Control-D to quit. This view may no longer be accessible or work correctly after quitting."
     ]
    }
   ],
   "source": [
    "!qiime tools view core-metrics/weighted_unifrac_emperor.qzv"
   ]
  },
  {
   "cell_type": "markdown",
   "metadata": {},
   "source": [
    "### Alpha diversity group significance test\n",
    "* An example of just one metric"
   ]
  },
  {
   "cell_type": "code",
   "execution_count": 45,
   "metadata": {},
   "outputs": [
    {
     "name": "stdout",
     "output_type": "stream",
     "text": [
      "\u001b[32mSaved Visualization to: core-metrics/faith-pd-group-significance.qzv\u001b[0m\r\n"
     ]
    }
   ],
   "source": [
    "!qiime diversity alpha-group-significance \\\n",
    "--i-alpha-diversity core-metrics/faith_pd_vector.qza \\\n",
    "--m-metadata-file mappingfile_upd4.csv \\\n",
    "--o-visualization core-metrics/faith-pd-group-significance.qzv"
   ]
  },
  {
   "cell_type": "code",
   "execution_count": 46,
   "metadata": {},
   "outputs": [
    {
     "name": "stdout",
     "output_type": "stream",
     "text": [
      "Press the 'q' key, Control-C, or Control-D to quit. This view may no longer be accessible or work correctly after quitting.[12746:12767:0527/231245.650969:ERROR:browser_process_sub_thread.cc(209)] Waited 3 ms for network service\n",
      "Opening in existing browser session.\n",
      "\n",
      "Press the 'q' key, Control-C, or Control-D to quit. This view may no longer be accessible or work correctly after quitting."
     ]
    }
   ],
   "source": [
    "!qiime tools view core-metrics/faith-pd-group-significance.qzv"
   ]
  },
  {
   "cell_type": "markdown",
   "metadata": {},
   "source": [
    "### Beta diversity group significance test\n",
    "* lets test weighted unifrac"
   ]
  },
  {
   "cell_type": "code",
   "execution_count": 47,
   "metadata": {},
   "outputs": [
    {
     "name": "stdout",
     "output_type": "stream",
     "text": [
      "\u001b[32mSaved Visualization to: core-metrics/unweighted-unifrac-bodysite-significance.qzv\u001b[0m\r\n"
     ]
    }
   ],
   "source": [
    "!qiime diversity beta-group-significance \\\n",
    "--i-distance-matrix core-metrics/weighted_unifrac_distance_matrix.qza \\\n",
    "--m-metadata-file mappingfile_upd4.csv \\\n",
    "--m-metadata-column Location \\\n",
    "--p-pairwise \\\n",
    "--o-visualization core-metrics/unweighted-unifrac-bodysite-significance.qzv"
   ]
  },
  {
   "cell_type": "code",
   "execution_count": 49,
   "metadata": {
    "scrolled": true
   },
   "outputs": [
    {
     "name": "stdout",
     "output_type": "stream",
     "text": [
      "Press the 'q' key, Control-C, or Control-D to quit. This view may no longer be accessible or work correctly after quitting.[13743:13743:0527/231840.312005:ERROR:sandbox_linux.cc(364)] InitializeSandbox() called with multiple threads in process gpu-process.\n",
      "[13704:13725:0527/231840.319508:ERROR:browser_process_sub_thread.cc(209)] Waited 5 ms for network service\n",
      "Opening in existing browser session.\n",
      "\n",
      "Press the 'q' key, Control-C, or Control-D to quit. This view may no longer be accessible or work correctly after quitting."
     ]
    }
   ],
   "source": [
    "!qiime tools view core-metrics/unweighted-unifrac-bodysite-significance.qzv"
   ]
  },
  {
   "cell_type": "markdown",
   "metadata": {},
   "source": [
    "## Bonus part: Exporting FeatureTables (biom files)\n",
    "* qiime2 keeps taxonomy separately\n",
    "* therefore exporting biom files with taxonomy needs some additional steps"
   ]
  },
  {
   "cell_type": "code",
   "execution_count": 50,
   "metadata": {},
   "outputs": [],
   "source": [
    "!sed -i -e '1 s/Feature/#OTUID/' -e '1 s/Taxon/taxonomy/' taxonomy/taxonomy.tsv"
   ]
  },
  {
   "cell_type": "code",
   "execution_count": 51,
   "metadata": {},
   "outputs": [
    {
     "name": "stdout",
     "output_type": "stream",
     "text": [
      "\u001b[32mExported id-filtered-deblur-table.qza as BIOMV210DirFmt to directory id-filtered-deblur-table-exported\u001b[0m\r\n"
     ]
    }
   ],
   "source": [
    "!qiime tools export \\\n",
    "--input-path id-filtered-deblur-table.qza \\\n",
    "--output-path id-filtered-deblur-table-exported"
   ]
  },
  {
   "cell_type": "code",
   "execution_count": 54,
   "metadata": {},
   "outputs": [],
   "source": [
    "!biom add-metadata \\\n",
    "-i id-filtered-deblur-table-exported/feature-table.biom \\\n",
    "-o id-filtered-deblur-table-exported/feature-table_w_tax.biom \\\n",
    "--observation-metadata-fp taxonomy/taxonomy.tsv \\\n",
    "--sc-separated taxonomy"
   ]
  },
  {
   "cell_type": "markdown",
   "metadata": {},
   "source": [
    "### And finally a familiar biom-convert :)"
   ]
  },
  {
   "cell_type": "code",
   "execution_count": 55,
   "metadata": {},
   "outputs": [],
   "source": [
    "!biom convert \\\n",
    "-i id-filtered-deblur-table-exported/feature-table_w_tax.biom \\\n",
    "-o id-filtered-deblur-table-exported/feature-table.tsv \\\n",
    "--to-tsv --header-key taxonomy"
   ]
  },
  {
   "cell_type": "code",
   "execution_count": null,
   "metadata": {},
   "outputs": [],
   "source": []
  },
  {
   "cell_type": "code",
   "execution_count": null,
   "metadata": {},
   "outputs": [],
   "source": []
  },
  {
   "cell_type": "code",
   "execution_count": null,
   "metadata": {},
   "outputs": [],
   "source": []
  },
  {
   "cell_type": "code",
   "execution_count": null,
   "metadata": {},
   "outputs": [],
   "source": []
  },
  {
   "cell_type": "code",
   "execution_count": null,
   "metadata": {},
   "outputs": [],
   "source": []
  },
  {
   "cell_type": "code",
   "execution_count": null,
   "metadata": {},
   "outputs": [],
   "source": []
  },
  {
   "cell_type": "code",
   "execution_count": null,
   "metadata": {},
   "outputs": [],
   "source": []
  },
  {
   "cell_type": "markdown",
   "metadata": {},
   "source": [
    "## little transformations to get fractions at a given level"
   ]
  },
  {
   "cell_type": "markdown",
   "metadata": {},
   "source": [
    "## and For BIOM w/taxonomy:"
   ]
  },
  {
   "cell_type": "code",
   "execution_count": 24,
   "metadata": {},
   "outputs": [],
   "source": [
    "#this seems to differ https://forum.qiime2.org/t/exporting-and-modifying-biom-tables-e-g-adding-taxonomy-annotations/3630\n",
    "!sed -i -e '1 s/Feature/#OTUID/' -e '1 s/Taxon/taxonomy/' taxa/taxonomy.tsv"
   ]
  },
  {
   "cell_type": "code",
   "execution_count": null,
   "metadata": {},
   "outputs": [],
   "source": []
  },
  {
   "cell_type": "code",
   "execution_count": 20,
   "metadata": {},
   "outputs": [
    {
     "name": "stdout",
     "output_type": "stream",
     "text": [
      "\u001b[32mExported id-filtered-deblur-table.qza as BIOMV210DirFmt to directory id-filtered-deblur-table-exported\u001b[0m\r\n"
     ]
    }
   ],
   "source": [
    "!qiime tools export --input-path id-filtered-deblur-table.qza --output-path id-filtered-deblur-table-exported\n"
   ]
  },
  {
   "cell_type": "code",
   "execution_count": 28,
   "metadata": {},
   "outputs": [],
   "source": [
    "!biom add-metadata -i id-filtered-deblur-table-exported/feature-table.biom -o id-filtered-deblur-table-exported/feature-table_w_tax.biom --observation-metadata-fp taxa/taxonomy.tsv --sc-separated taxonomy"
   ]
  },
  {
   "cell_type": "code",
   "execution_count": 30,
   "metadata": {},
   "outputs": [],
   "source": [
    "!biom convert -i id-filtered-deblur-table-exported/feature-table_w_tax.biom -o id-filtered-deblur-table-exported/feature-table.tsv --to-tsv --header-key taxonomy"
   ]
  },
  {
   "cell_type": "code",
   "execution_count": null,
   "metadata": {},
   "outputs": [],
   "source": []
  },
  {
   "cell_type": "code",
   "execution_count": null,
   "metadata": {},
   "outputs": [],
   "source": []
  },
  {
   "cell_type": "markdown",
   "metadata": {},
   "source": [
    "## Making feature table w\\ fractions"
   ]
  },
  {
   "cell_type": "code",
   "execution_count": 48,
   "metadata": {},
   "outputs": [
    {
     "name": "stdout",
     "output_type": "stream",
     "text": [
      "\u001b[32mSaved FeatureTable[RelativeFrequency] to: frac-id-filtered-deblur-table.qza\u001b[0m\r\n"
     ]
    }
   ],
   "source": [
    "!qiime feature-table relative-frequency \\\n",
    "--i-table id-filtered-deblur-table.qza \\\n",
    "--o-relative-frequency-table frac-id-filtered-deblur-table.qza"
   ]
  },
  {
   "cell_type": "code",
   "execution_count": 49,
   "metadata": {},
   "outputs": [
    {
     "name": "stdout",
     "output_type": "stream",
     "text": [
      "\u001b[32mExported frac-id-filtered-deblur-table.qza as BIOMV210DirFmt to directory frac-id-filtered-deblur-table\u001b[0m\r\n"
     ]
    }
   ],
   "source": [
    "!qiime tools export --input-path frac-id-filtered-deblur-table.qza --output-path frac-id-filtered-deblur-table"
   ]
  },
  {
   "cell_type": "code",
   "execution_count": 51,
   "metadata": {},
   "outputs": [],
   "source": [
    "!biom add-metadata \\\n",
    "-i frac-id-filtered-deblur-table/feature-table.biom \\\n",
    "-o frac-id-filtered-deblur-table/feature-table_w_tax.biom \\\n",
    "--observation-metadata-fp taxa/taxonomy.tsv --sc-separated taxonomy"
   ]
  },
  {
   "cell_type": "code",
   "execution_count": 52,
   "metadata": {},
   "outputs": [],
   "source": [
    "!biom convert \\\n",
    "-i frac-id-filtered-deblur-table/feature-table_w_tax.biom \\\n",
    "-o frac-id-filtered-deblur-table/feature-table.tsv \\\n",
    "--to-tsv \\\n",
    "--header-key taxonomy"
   ]
  },
  {
   "cell_type": "code",
   "execution_count": 17,
   "metadata": {},
   "outputs": [
    {
     "name": "stdout",
     "output_type": "stream",
     "text": [
      "Usage: qiime tools export [OPTIONS]\r\n",
      "\r\n",
      "  Exporting extracts (and optionally transforms) data stored inside an\r\n",
      "  Artifact or Visualization. Note that Visualizations cannot be transformed\r\n",
      "  with --output-format\r\n",
      "\r\n",
      "Options:\r\n",
      "  --input-path FILE     Path to file that should be exported  [required]\r\n",
      "  --output-path PATH    Path to file or directory where data should be\r\n",
      "                        exported to  [required]\r\n",
      "  --output-format TEXT  Format which the data should be exported as. This\r\n",
      "                        option cannot be used with Visualizations\r\n",
      "  --help                Show this message and exit.\r\n"
     ]
    }
   ],
   "source": [
    "!qiime tools export --help"
   ]
  },
  {
   "cell_type": "code",
   "execution_count": null,
   "metadata": {},
   "outputs": [],
   "source": []
  },
  {
   "cell_type": "code",
   "execution_count": 7,
   "metadata": {},
   "outputs": [
    {
     "name": "stdout",
     "output_type": "stream",
     "text": [
      "\u001b[32mSaved Visualization to: rarefaction_curves.qzv\u001b[0m\r\n"
     ]
    }
   ],
   "source": [
    "!qiime diversity alpha-rarefaction --i-table id-filtered-deblur-table.qza \\\n",
    "                                  --p-max-depth 8000 \\\n",
    "                                  --p-steps 20 \\\n",
    "                                  --i-phylogeny tree_out/rep_seqs_aligned_masked_tree_rooted.qza \\\n",
    "                                  --m-metadata-file mappingfile_upd4.csv \\\n",
    "                                  --o-visualization rarefaction_curves.qzv"
   ]
  },
  {
   "cell_type": "code",
   "execution_count": 8,
   "metadata": {
    "scrolled": true
   },
   "outputs": [
    {
     "name": "stdout",
     "output_type": "stream",
     "text": [
      "Press the 'q' key, Control-C, or Control-D to quit. This view may no longer be accessible or work correctly after quitting.[7130:7130:0518/222018.657832:ERROR:sandbox_linux.cc(364)] InitializeSandbox() called with multiple threads in process gpu-process.\n",
      "[7090:7111:0518/222018.674405:ERROR:browser_process_sub_thread.cc(209)] Waited 3 ms for network service\n",
      "Opening in existing browser session.\n",
      "\n",
      "Press the 'q' key, Control-C, or Control-D to quit. This view may no longer be accessible or work correctly after quitting."
     ]
    }
   ],
   "source": [
    "!qiime tools view rarefaction_curves.qzv"
   ]
  },
  {
   "cell_type": "markdown",
   "metadata": {},
   "source": [
    "For some reason, the QIIME2 default in the above curves with the metadata file (which you can see in the visualization) is to not give you the option of seeing each sample's rarefaction curve individually (even though this is the default later on in stacked barplots!), only the \"grouped\" curves by each metadata type. As it can be quite important in data QC to see if you have inconsistent samples, we need to rerun the above command, but this time omitting the metadata file (use the same X for the maximum depth, as above)."
   ]
  },
  {
   "cell_type": "code",
   "execution_count": 10,
   "metadata": {},
   "outputs": [
    {
     "name": "stdout",
     "output_type": "stream",
     "text": [
      "\u001b[32mSaved Visualization to: rarefaction_curves_eachsample.qzv\u001b[0m\r\n"
     ]
    }
   ],
   "source": [
    "!qiime diversity alpha-rarefaction --i-table id-filtered-deblur-table.qza \\\n",
    "                                  --p-max-depth 8000 \\\n",
    "                                  --p-steps 20 \\\n",
    "                                  --i-phylogeny tree_out/rep_seqs_aligned_masked_tree_rooted.qza \\\n",
    "                                  --o-visualization rarefaction_curves_eachsample.qzv"
   ]
  },
  {
   "cell_type": "code",
   "execution_count": 11,
   "metadata": {
    "scrolled": true
   },
   "outputs": [
    {
     "name": "stdout",
     "output_type": "stream",
     "text": [
      "Press the 'q' key, Control-C, or Control-D to quit. This view may no longer be accessible or work correctly after quitting.[7719:7719:0518/222244.309758:ERROR:sandbox_linux.cc(364)] InitializeSandbox() called with multiple threads in process gpu-process.\n",
      "[7678:7699:0518/222244.311503:ERROR:browser_process_sub_thread.cc(209)] Waited 3 ms for network service\n",
      "Opening in existing browser session.\n",
      "\n",
      "Press the 'q' key, Control-C, or Control-D to quit. This view may no longer be accessible or work correctly after quitting."
     ]
    }
   ],
   "source": [
    "!qiime tools view rarefaction_curves_eachsample.qzv"
   ]
  },
  {
   "cell_type": "markdown",
   "metadata": {},
   "source": [
    "## 6. Assign taxonomy\n",
    "\n",
    "You can assign taxonomy to your ASVs using a Naive-Bayes approach implemented in the scikit learn Python library and the SILVA database. Note that we have trained classifiers for a few different amplicon regions already (which are available in the /home/shared/taxa_classifiers folder), but you will need to generate your own if your region of interest isn't there. The classifier filename below is for the "
   ]
  },
  {
   "cell_type": "code",
   "execution_count": 6,
   "metadata": {},
   "outputs": [],
   "source": [
    "!rmdir taxa"
   ]
  },
  {
   "cell_type": "markdown",
   "metadata": {},
   "source": [
    "!!! chokes on memory, seem to work with a single thread"
   ]
  },
  {
   "cell_type": "code",
   "execution_count": 1,
   "metadata": {
    "scrolled": true
   },
   "outputs": [
    {
     "name": "stdout",
     "output_type": "stream",
     "text": [
      "\u001b[32mSaved FeatureData[Taxonomy] to: taxa/classification.qza\u001b[0m\r\n"
     ]
    }
   ],
   "source": [
    "!qiime feature-classifier classify-sklearn --i-reads deblur_output/representative_sequences.qza \\\n",
    "                                          --i-classifier v3v4_silva132_classifier_wps2_2groups.qza \\\n",
    "                                          --output-dir taxa  \n"
   ]
  },
  {
   "cell_type": "code",
   "execution_count": null,
   "metadata": {},
   "outputs": [],
   "source": []
  },
  {
   "cell_type": "code",
   "execution_count": 3,
   "metadata": {},
   "outputs": [
    {
     "name": "stdout",
     "output_type": "stream",
     "text": [
      "\u001b[32mExported taxa/classification.qza as TSVTaxonomyDirectoryFormat to directory taxa\u001b[0m\r\n"
     ]
    }
   ],
   "source": [
    "!qiime tools export --input-path taxa/classification.qza --output-path taxa"
   ]
  },
  {
   "cell_type": "code",
   "execution_count": 32,
   "metadata": {},
   "outputs": [
    {
     "name": "stdout",
     "output_type": "stream",
     "text": [
      "\u001b[32mSaved Visualization to: taxa/taxa_barplot.qzv\u001b[0m\r\n"
     ]
    }
   ],
   "source": [
    "!qiime taxa barplot --i-table id-filtered-deblur-table.qza \\\n",
    "                   --i-taxonomy taxa/classification.qza \\\n",
    "                   --m-metadata-file mappingfile_upd4.csv \\\n",
    "                   --o-visualization taxa/taxa_barplot.qzv"
   ]
  },
  {
   "cell_type": "code",
   "execution_count": 33,
   "metadata": {
    "scrolled": true
   },
   "outputs": [
    {
     "name": "stdout",
     "output_type": "stream",
     "text": [
      "Press the 'q' key, Control-C, or Control-D to quit. This view may no longer be accessible or work correctly after quitting.[15795:15795:0519/205546.956028:ERROR:sandbox_linux.cc(364)] InitializeSandbox() called with multiple threads in process gpu-process.\n",
      "[15751:15772:0519/205546.958136:ERROR:browser_process_sub_thread.cc(209)] Waited 3 ms for network service\n",
      "Opening in existing browser session.\n",
      "\n",
      "Press the 'q' key, Control-C, or Control-D to quit. This view may no longer be accessible or work correctly after quitting."
     ]
    }
   ],
   "source": [
    "!qiime tools view taxa/taxa_barplot.qzv"
   ]
  },
  {
   "cell_type": "markdown",
   "metadata": {},
   "source": [
    "## Making biom tables with fraciton by taxonomic level"
   ]
  },
  {
   "cell_type": "code",
   "execution_count": 34,
   "metadata": {},
   "outputs": [],
   "source": [
    "!mkdir taxa-levels"
   ]
  },
  {
   "cell_type": "code",
   "execution_count": 35,
   "metadata": {},
   "outputs": [
    {
     "name": "stdout",
     "output_type": "stream",
     "text": [
      "\u001b[32mSaved FeatureTable[Frequency] to: taxa-levels/table-l2.qza\u001b[0m\r\n"
     ]
    }
   ],
   "source": [
    "!qiime taxa collapse \\\n",
    "--i-table id-filtered-deblur-table.qza \\\n",
    "--i-taxonomy taxa/classification.qza \\\n",
    "--p-level 2 \\\n",
    "--o-collapsed-table taxa-levels/table-l2.qza"
   ]
  },
  {
   "cell_type": "markdown",
   "metadata": {},
   "source": [
    "### Convert counts to fractions"
   ]
  },
  {
   "cell_type": "code",
   "execution_count": 36,
   "metadata": {
    "scrolled": true
   },
   "outputs": [
    {
     "name": "stdout",
     "output_type": "stream",
     "text": [
      "\u001b[32mSaved FeatureTable[RelativeFrequency] to: taxa-levels/frac-table-l2.qza\u001b[0m\r\n"
     ]
    }
   ],
   "source": [
    "!qiime feature-table relative-frequency \\\n",
    "--i-table taxa-levels/table-l2.qza \\\n",
    "--o-relative-frequency-table taxa-levels/frac-table-l2.qza"
   ]
  },
  {
   "cell_type": "markdown",
   "metadata": {},
   "source": [
    "## Convert to tsv w\\ taxonomy"
   ]
  },
  {
   "cell_type": "code",
   "execution_count": 37,
   "metadata": {
    "scrolled": true
   },
   "outputs": [
    {
     "name": "stdout",
     "output_type": "stream",
     "text": [
      "\u001b[32mExported taxa-levels/frac-table-l2.qza as BIOMV210DirFmt to directory taxa-levels/frac-table-l2\u001b[0m\r\n"
     ]
    }
   ],
   "source": [
    "!qiime tools export \\\n",
    "--input-path taxa-levels/frac-table-l2.qza \\\n",
    "--output-path taxa-levels/frac-table-l2\n"
   ]
  },
  {
   "cell_type": "markdown",
   "metadata": {},
   "source": [
    "## This step seems unnecessary since it already comes with taxonomy"
   ]
  },
  {
   "cell_type": "code",
   "execution_count": 38,
   "metadata": {},
   "outputs": [],
   "source": [
    "!biom add-metadata \\\n",
    "-i taxa-levels/frac-table-l2/feature-table.biom \\\n",
    "-o taxa-levels/frac-table-l2/feature-table_w_tax.biom \\\n",
    "--observation-metadata-fp taxa/taxonomy.tsv \\\n",
    "--sc-separated taxonomy\n"
   ]
  },
  {
   "cell_type": "code",
   "execution_count": null,
   "metadata": {},
   "outputs": [],
   "source": []
  },
  {
   "cell_type": "code",
   "execution_count": null,
   "metadata": {},
   "outputs": [],
   "source": []
  },
  {
   "cell_type": "code",
   "execution_count": 39,
   "metadata": {},
   "outputs": [],
   "source": [
    "!biom convert \\\n",
    "-i taxa-levels/frac-table-l2/feature-table_w_tax.biom \\\n",
    "-o taxa-levels/frac-table-l2/feature-table.tsv \\\n",
    "--to-tsv \\\n",
    "--header-key taxonomy"
   ]
  },
  {
   "cell_type": "code",
   "execution_count": null,
   "metadata": {},
   "outputs": [],
   "source": []
  },
  {
   "cell_type": "code",
   "execution_count": null,
   "metadata": {},
   "outputs": [],
   "source": []
  },
  {
   "cell_type": "markdown",
   "metadata": {},
   "source": [
    "## Level 4"
   ]
  },
  {
   "cell_type": "code",
   "execution_count": 41,
   "metadata": {},
   "outputs": [
    {
     "name": "stdout",
     "output_type": "stream",
     "text": [
      "\u001b[32mSaved FeatureTable[Frequency] to: taxa-levels/table-l4.qza\u001b[0m\r\n"
     ]
    }
   ],
   "source": [
    "!qiime taxa collapse \\\n",
    "--i-table id-filtered-deblur-table.qza \\\n",
    "--i-taxonomy taxa/classification.qza \\\n",
    "--p-level 4 \\\n",
    "--o-collapsed-table taxa-levels/table-l4.qza"
   ]
  },
  {
   "cell_type": "code",
   "execution_count": 43,
   "metadata": {},
   "outputs": [
    {
     "name": "stdout",
     "output_type": "stream",
     "text": [
      "\u001b[32mSaved FeatureTable[RelativeFrequency] to: taxa-levels/frac-table-l4.qza\u001b[0m\r\n"
     ]
    }
   ],
   "source": [
    "!qiime feature-table relative-frequency \\\n",
    "--i-table taxa-levels/table-l4.qza \\\n",
    "--o-relative-frequency-table taxa-levels/frac-table-l4.qza"
   ]
  },
  {
   "cell_type": "code",
   "execution_count": 44,
   "metadata": {},
   "outputs": [
    {
     "name": "stdout",
     "output_type": "stream",
     "text": [
      "\u001b[32mExported taxa-levels/frac-table-l4.qza as BIOMV210DirFmt to directory taxa-levels/frac-table-l4\u001b[0m\r\n"
     ]
    }
   ],
   "source": [
    "!qiime tools export \\\n",
    "--input-path taxa-levels/frac-table-l4.qza \\\n",
    "--output-path taxa-levels/frac-table-l4"
   ]
  },
  {
   "cell_type": "code",
   "execution_count": 46,
   "metadata": {},
   "outputs": [],
   "source": [
    "!biom convert \\\n",
    "-i taxa-levels/frac-table-l4/feature-table.biom \\\n",
    "-o taxa-levels/frac-table-l4/feature-table.tsv \\\n",
    "--to-tsv \\\n",
    "--header-key taxonomy"
   ]
  },
  {
   "cell_type": "code",
   "execution_count": null,
   "metadata": {},
   "outputs": [],
   "source": []
  },
  {
   "cell_type": "code",
   "execution_count": null,
   "metadata": {},
   "outputs": [],
   "source": []
  },
  {
   "cell_type": "code",
   "execution_count": null,
   "metadata": {},
   "outputs": [],
   "source": []
  },
  {
   "cell_type": "markdown",
   "metadata": {},
   "source": [
    "# Level5"
   ]
  },
  {
   "cell_type": "code",
   "execution_count": 47,
   "metadata": {},
   "outputs": [
    {
     "name": "stdout",
     "output_type": "stream",
     "text": [
      "\u001b[32mSaved FeatureTable[Frequency] to: taxa-levels/table-l5.qza\u001b[0m\n",
      "\u001b[32mSaved FeatureTable[RelativeFrequency] to: taxa-levels/frac-table-l5.qza\u001b[0m\n",
      "\u001b[32mExported taxa-levels/frac-table-l5.qza as BIOMV210DirFmt to directory taxa-levels/frac-table-l5\u001b[0m\n"
     ]
    }
   ],
   "source": [
    "!qiime taxa collapse \\\n",
    "--i-table id-filtered-deblur-table.qza \\\n",
    "--i-taxonomy taxa/classification.qza \\\n",
    "--p-level 5 \\\n",
    "--o-collapsed-table taxa-levels/table-l5.qza\n",
    "\n",
    "!qiime feature-table relative-frequency \\\n",
    "--i-table taxa-levels/table-l5.qza \\\n",
    "--o-relative-frequency-table taxa-levels/frac-table-l5.qza\n",
    "\n",
    "!qiime tools export \\\n",
    "--input-path taxa-levels/frac-table-l5.qza \\\n",
    "--output-path taxa-levels/frac-table-l5\n",
    "\n",
    "!biom convert \\\n",
    "-i taxa-levels/frac-table-l5/feature-table.biom \\\n",
    "-o taxa-levels/frac-table-l5/feature-table.tsv \\\n",
    "--to-tsv \\\n",
    "--header-key taxonomy"
   ]
  },
  {
   "cell_type": "code",
   "execution_count": null,
   "metadata": {},
   "outputs": [],
   "source": []
  }
 ],
 "metadata": {
  "ipub": {
   "titlepage": {
    "author": "Andriy Sheremet",
    "email": "andriy.sheremet@ucalgary.ca",
    "institution": "University of Calgary",
    "title": "qiime2 v.2019.4 lab tutorial"
   }
  },
  "kernelspec": {
   "display_name": "Python 3",
   "language": "python",
   "name": "python3"
  },
  "language_info": {
   "codemirror_mode": {
    "name": "ipython",
    "version": 3
   },
   "file_extension": ".py",
   "mimetype": "text/x-python",
   "name": "python",
   "nbconvert_exporter": "python",
   "pygments_lexer": "ipython3",
   "version": "3.6.7"
  }
 },
 "nbformat": 4,
 "nbformat_minor": 2
}
