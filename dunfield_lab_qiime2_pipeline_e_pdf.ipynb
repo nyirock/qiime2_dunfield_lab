{
 "cells": [
  {
   "cell_type": "markdown",
   "metadata": {},
   "source": [
    "# qiime2 v.2019.4 dunfield lab tutorial\n",
    "\n",
    "* Relative paths are used\n",
    "* All commands imply terminal is in the current working directory\n",
    "* Knowledge of linux terminal is highly incouraged"
   ]
  },
  {
   "cell_type": "markdown",
   "metadata": {},
   "source": [
    "## Activate qiime2 environment"
   ]
  },
  {
   "cell_type": "code",
   "execution_count": null,
   "metadata": {},
   "outputs": [],
   "source": [
    "conda activate qiime2-2019.4"
   ]
  },
  {
   "cell_type": "markdown",
   "metadata": {},
   "source": [
    "## Optionally enable qiime-specific autocompletion"
   ]
  },
  {
   "cell_type": "code",
   "execution_count": null,
   "metadata": {},
   "outputs": [],
   "source": [
    "source tab-qiime"
   ]
  },
  {
   "cell_type": "markdown",
   "metadata": {},
   "source": [
    "## Navigate to your working directory\n",
    "* qiime2_lab_tutorial already folder contains raw data\n",
    "* lab_pipeline folder contains trained NaiveBayes Classifier\n",
    "* mapping file\n",
    "\n",
    "Next step expects that the folder exists (example)"
   ]
  },
  {
   "cell_type": "code",
   "execution_count": null,
   "metadata": {},
   "outputs": [],
   "source": [
    "cd ~/Desktop/qiime2_lab_tutorial/lab_pipeline"
   ]
  },
  {
   "cell_type": "markdown",
   "metadata": {},
   "source": [
    "## Let's view the directory content"
   ]
  },
  {
   "cell_type": "code",
   "execution_count": 57,
   "metadata": {},
   "outputs": [
    {
     "name": "stdout",
     "output_type": "stream",
     "text": [
      "total 216584\r\n",
      "-rwxrwxrwx 1 root root     50718 May 27 23:39 dunfield_lab_qiime2_pipeline_e.ipynb\r\n",
      "-rwxrwxrwx 1 root root     70275 May 27 23:35 dunfield_lab_qiime2_pipeline.ipynb\r\n",
      "-rwxrwxrwx 1 root root      2580 Mar 25 12:39 mappingfile_upd4.csv\r\n",
      "-rwxrwxrwx 1 root root 221649684 May 18 09:59 v3v4_silva132_classifier_wps2_2groups.qza\r\n"
     ]
    }
   ],
   "source": [
    "ls -l"
   ]
  },
  {
   "cell_type": "markdown",
   "metadata": {},
   "source": [
    "## Trim primers\n",
    "\n",
    "* Various primer trimming tools exist\n",
    "    * cutadapt\n",
    "    * bbmap\n",
    "    * qiime2 native tools\n",
    "    * trimmomatic\n",
    "    * manual removal...\n",
    "\n",
    "It is critical to remove non-biological sequences from the data.<br>\n",
    "We will remove our 16S V3-V4 region (Bacteria-specific primer set) primers sequences using cutadapt <br>\n",
    "* f-primer CCTACGGGNGGCWGCAG\n",
    "* r-primer GACTACHVGGGTATCTAATCC"
   ]
  },
  {
   "cell_type": "code",
   "execution_count": null,
   "metadata": {},
   "outputs": [],
   "source": []
  },
  {
   "cell_type": "markdown",
   "metadata": {},
   "source": [
    "### Making directories"
   ]
  },
  {
   "cell_type": "code",
   "execution_count": 58,
   "metadata": {},
   "outputs": [],
   "source": [
    "mkdir primer_trimmed_fastqs; mkdir cutadapt_logs"
   ]
  },
  {
   "cell_type": "markdown",
   "metadata": {},
   "source": [
    "### Primer trimming w\\ cutadapt with a help of a little script :)\n",
    "#### ! Expects to contain our data in the <font color=red>raw_data</font> folder in a parent directory\n",
    "\n",
    "* Run the following script in a command line:"
   ]
  },
  {
   "cell_type": "markdown",
   "metadata": {
    "scrolled": false
   },
   "source": [
    "```sh\n",
    "for file1 in ../raw_data/*_R1_*.fastq.gz; do\n",
    "    file2=\"${file1%_R1_001.fastq.gz}_R2_001.fastq.gz\" \n",
    "    \n",
    "    fname1=`basename $file1`\n",
    "    fname2=`basename $file2`\n",
    "    `cutadapt --pair-filter any -j 4 --no-indels --discard-untrimmed \\\n",
    "    -g CCTACGGGNGGCWGCAG -G GACTACHVGGGTATCTAATCC \\\n",
    "    -o primer_trimmed_fastqs/$fname1 -p primer_trimmed_fastqs/$fname2 \\\n",
    "    $file1 $file2 \\\n",
    "    > cutadapt_logs/${fname1}_cutadapt_log.txt`\n",
    "done\n",
    "```"
   ]
  },
  {
   "cell_type": "markdown",
   "metadata": {},
   "source": [
    "## Import trimmed FASTQs as a QIIME2 artifact\n",
    "\n",
    "To keep the directory clean you can put the artifact files in a new directory"
   ]
  },
  {
   "cell_type": "code",
   "execution_count": null,
   "metadata": {},
   "outputs": [],
   "source": [
    "mkdir paired_reads_qza"
   ]
  },
  {
   "cell_type": "markdown",
   "metadata": {},
   "source": [
    "### Casava 1.8 single-end demultiplexed fastq\n",
    "Format description\n",
    "\n",
    "In the Casava 1.8 demultiplexed (single-end) format, there is one fastq.gz file for each sample in the study which contains the single-end reads for that sample. The file name includes the sample identifier and should look like L2S357_15_L001_R1_001.fastq.gz. The underscore-separated fields in this file name are:\n",
    "\n",
    "    the sample identifier,\n",
    "    the barcode sequence or a barcode identifier,\n",
    "    the lane number,\n",
    "    the direction of the read (i.e. only R1, because these are single-end reads), and\n",
    "    the set number.\n",
    "\n",
    "Obtaining example data"
   ]
  },
  {
   "cell_type": "markdown",
   "metadata": {},
   "source": [
    "### Importing..."
   ]
  },
  {
   "cell_type": "code",
   "execution_count": 61,
   "metadata": {},
   "outputs": [
    {
     "name": "stdout",
     "output_type": "stream",
     "text": [
      "\u001b[32mImported primer_trimmed_fastqs as CasavaOneEightSingleLanePerSampleDirFmt to paired_reads_qza/reads_trimmed.qza\u001b[0m\r\n"
     ]
    }
   ],
   "source": [
    "qiime tools import --type SampleData[PairedEndSequencesWithQuality] \\\n",
    "                   --input-path primer_trimmed_fastqs \\\n",
    "                   --output-path paired_reads_qza/reads_trimmed.qza \\\n",
    "                   --input-format CasavaOneEightSingleLanePerSampleDirFmt"
   ]
  },
  {
   "cell_type": "markdown",
   "metadata": {},
   "source": [
    "* Our reads are now ready to be used by qiime2"
   ]
  },
  {
   "cell_type": "markdown",
   "metadata": {},
   "source": [
    "## Quality control w/ deblur:\n",
    "Currently deblur doesn't support paired-end reads <br>\n",
    "### Using VSEARCH for joining:"
   ]
  },
  {
   "cell_type": "code",
   "execution_count": 62,
   "metadata": {},
   "outputs": [
    {
     "name": "stdout",
     "output_type": "stream",
     "text": [
      "\u001b[32mSaved SampleData[JoinedSequencesWithQuality] to: paired_reads_qza/reads_trimmed_joined.qza\u001b[0m\r\n"
     ]
    }
   ],
   "source": [
    "qiime vsearch join-pairs \\\n",
    "--i-demultiplexed-seqs paired_reads_qza/reads_trimmed.qza \\\n",
    "--o-joined-sequences paired_reads_qza/reads_trimmed_joined.qza"
   ]
  },
  {
   "cell_type": "markdown",
   "metadata": {},
   "source": [
    "### Filter out low-quality reads.\n",
    "\n",
    "This command will filter out low-quality reads based on the default options.<br>\n",
    "(this step may take a while)"
   ]
  },
  {
   "cell_type": "code",
   "execution_count": 63,
   "metadata": {},
   "outputs": [
    {
     "name": "stdout",
     "output_type": "stream",
     "text": [
      "\u001b[32mSaved SampleData[JoinedSequencesWithQuality] to: paired_reads_qza/reads_trimmed_joined_filt.qza\u001b[0m\r\n",
      "\u001b[32mSaved QualityFilterStats to: filt_stats.qza\u001b[0m\r\n"
     ]
    }
   ],
   "source": [
    "qiime quality-filter q-score-joined \\\n",
    "--i-demux paired_reads_qza/reads_trimmed_joined.qza \\\n",
    "--o-filter-stats filt_stats.qza \\\n",
    "--o-filtered-sequences paired_reads_qza/reads_trimmed_joined_filt.qza"
   ]
  },
  {
   "cell_type": "markdown",
   "metadata": {},
   "source": [
    "### Deblur Workflow\n",
    "\n",
    "This workflow is 16S sequences, for other amplicon regions, you can use the denoise-other option in the command and specify a reference database.\n",
    "\n",
    "Note that you will need to trim all sequences to the same length with the --p-trim-length option. In order to determine the correct length to trim down to, run the following QC:"
   ]
  },
  {
   "cell_type": "markdown",
   "metadata": {},
   "source": [
    "### To find appropriate deblur parameters we need to summarize our joined reads"
   ]
  },
  {
   "cell_type": "code",
   "execution_count": 64,
   "metadata": {},
   "outputs": [
    {
     "name": "stdout",
     "output_type": "stream",
     "text": [
      "\u001b[32mSaved Visualization to: reads_trimmed_joined_filt_summary.qzv\u001b[0m\r\n"
     ]
    }
   ],
   "source": [
    "qiime demux summarize \\\n",
    "--i-data paired_reads_qza/reads_trimmed_joined_filt.qza \\\n",
    "--o-visualization reads_trimmed_joined_filt_summary.qzv"
   ]
  },
  {
   "cell_type": "markdown",
   "metadata": {},
   "source": [
    "### View the obtained visualization"
   ]
  },
  {
   "cell_type": "code",
   "execution_count": 65,
   "metadata": {
    "scrolled": false
   },
   "outputs": [
    {
     "name": "stdout",
     "output_type": "stream",
     "text": [
      "Press the 'q' key, Control-C, or Control-D to quit. This view may no longer be accessible or work correctly after quitting.[20069:20069:0527/234619.288113:ERROR:sandbox_linux.cc(364)] InitializeSandbox() called with multiple threads in process gpu-process.\n",
      "[20029:20050:0527/234619.290330:ERROR:browser_process_sub_thread.cc(209)] Waited 4 ms for network service\n",
      "Opening in existing browser session.\n",
      "\n",
      "Press the 'q' key, Control-C, or Control-D to quit. This view may no longer be accessible or work correctly after quitting."
     ]
    }
   ],
   "source": [
    "qiime tools view reads_trimmed_joined_filt_summary.qzv"
   ]
  },
  {
   "cell_type": "markdown",
   "metadata": {},
   "source": [
    "### Qiime help on importing/exporting/viewing artefacts"
   ]
  },
  {
   "cell_type": "code",
   "execution_count": 66,
   "metadata": {},
   "outputs": [
    {
     "name": "stdout",
     "output_type": "stream",
     "text": [
      "Usage: \u001b[34m\u001b[24mqiime tools\u001b[0m [OPTIONS] COMMAND [ARGS]...\r\n",
      "\r\n",
      "  Tools for working with QIIME 2 files.\r\n",
      "\r\n",
      "\u001b[1mOptions\u001b[0m:\r\n",
      "  \u001b[34m\u001b[24m--help\u001b[0m      Show this message and exit.\r\n",
      "\r\n",
      "\u001b[1mCommands\u001b[0m:\r\n",
      "  \u001b[34m\u001b[24mcitations\u001b[0m         Print citations for a QIIME 2 result.\r\n",
      "  \u001b[34m\u001b[24mexport\u001b[0m            Export data from a QIIME 2 Artifact or a Visualization\r\n",
      "  \u001b[34m\u001b[24mextract\u001b[0m           Extract a QIIME 2 Artifact or Visualization archive.\r\n",
      "  \u001b[34m\u001b[24mimport\u001b[0m            Import data into a new QIIME 2 Artifact.\r\n",
      "  \u001b[34m\u001b[24minspect-metadata\u001b[0m  Inspect columns available in metadata.\r\n",
      "  \u001b[34m\u001b[24mpeek\u001b[0m              Take a peek at a QIIME 2 Artifact or Visualization.\r\n",
      "  \u001b[34m\u001b[24mvalidate\u001b[0m          Validate data in a QIIME 2 Artifact.\r\n",
      "  \u001b[34m\u001b[24mview\u001b[0m              View a QIIME 2 Visualization.\r\n"
     ]
    }
   ],
   "source": [
    "qiime tools --help"
   ]
  },
  {
   "cell_type": "markdown",
   "metadata": {},
   "source": [
    "### Explore provenance w/ [https://view.qiime2.org](https://view.qiime2.org)"
   ]
  },
  {
   "cell_type": "markdown",
   "metadata": {},
   "source": [
    "#### Showing on denoise-16S"
   ]
  },
  {
   "cell_type": "code",
   "execution_count": 67,
   "metadata": {
    "scrolled": false
   },
   "outputs": [
    {
     "name": "stdout",
     "output_type": "stream",
     "text": [
      "Usage: \u001b[34m\u001b[24mqiime deblur denoise-16S\u001b[0m [OPTIONS]\r\n",
      "\r\n",
      "  Perform sequence quality control for Illumina data using the Deblur\r\n",
      "  workflow with a 16S reference as a positive filter. Only forward reads are\r\n",
      "  supported at this time. The specific reference used is the 88% OTUs from\r\n",
      "  Greengenes 13_8. This mode of operation should only be used when data were\r\n",
      "  generated from a 16S amplicon protocol on an Illumina platform. The\r\n",
      "  reference is only used to assess whether each sequence is likely to be 16S\r\n",
      "  by a local alignment using SortMeRNA with a permissive e-value; the\r\n",
      "  reference is not used to characterize the sequences.\r\n",
      "\r\n",
      "\u001b[1mInputs\u001b[0m:\r\n",
      "  \u001b[34m\u001b[4m--i-demultiplexed-seqs\u001b[0m ARTIFACT \u001b[32mSampleData[SequencesWithQuality |\u001b[0m\r\n",
      "    \u001b[32mPairedEndSequencesWithQuality | JoinedSequencesWithQuality]\u001b[0m\r\n",
      "                         The demultiplexed sequences to be denoised.\r\n",
      "                                                                    \u001b[35m[required]\u001b[0m\r\n",
      "\u001b[1mParameters\u001b[0m:\r\n",
      "  \u001b[34m\u001b[4m--p-trim-length\u001b[0m INTEGER\r\n",
      "                         Sequence trim length, specify -1 to disable\r\n",
      "                         trimming.                                  \u001b[35m[required]\u001b[0m\r\n",
      "  \u001b[34m\u001b[24m--p-left-trim-len\u001b[0m INTEGER\r\n",
      "    \u001b[32mRange(0, None)\u001b[0m       Sequence trimming from the 5' end. A value of 0 will\r\n",
      "                         disable this trim.                       \u001b[35m[default: 0]\u001b[0m\r\n",
      "  \u001b[34m\u001b[24m--p-sample-stats\u001b[0m / \u001b[34m\u001b[24m--p-no-sample-stats\u001b[0m\r\n",
      "                         If true, gather stats per sample.    \u001b[35m[default: False]\u001b[0m\r\n",
      "  \u001b[34m\u001b[24m--p-mean-error\u001b[0m NUMBER  The mean per nucleotide error, used for original\r\n",
      "                         sequence estimate.                   \u001b[35m[default: 0.005]\u001b[0m\r\n",
      "  \u001b[34m\u001b[24m--p-indel-prob\u001b[0m NUMBER  Insertion/deletion (indel) probability (same for N\r\n",
      "                         indels).                              \u001b[35m[default: 0.01]\u001b[0m\r\n",
      "  \u001b[34m\u001b[24m--p-indel-max\u001b[0m INTEGER  Maximum number of insertion/deletions.   \u001b[35m[default: 3]\u001b[0m\r\n",
      "  \u001b[34m\u001b[24m--p-min-reads\u001b[0m INTEGER  Retain only features appearing at least \u001b[4mmin-reads\u001b[0m\r\n",
      "                         times across all samples in the resulting feature\r\n",
      "                         table.                                  \u001b[35m[default: 10]\u001b[0m\r\n",
      "  \u001b[34m\u001b[24m--p-min-size\u001b[0m INTEGER   In each sample, discard all features with an\r\n",
      "                         abundance less than \u001b[4mmin-size\u001b[0m.            \u001b[35m[default: 2]\u001b[0m\r\n",
      "  \u001b[34m\u001b[24m--p-jobs-to-start\u001b[0m INTEGER\r\n",
      "                         Number of jobs to start (if to run in parallel).\r\n",
      "                                                                  \u001b[35m[default: 1]\u001b[0m\r\n",
      "  \u001b[34m\u001b[24m--p-hashed-feature-ids\u001b[0m / \u001b[34m\u001b[24m--p-no-hashed-feature-ids\u001b[0m\r\n",
      "                         If true, hash the feature IDs.        \u001b[35m[default: True]\u001b[0m\r\n",
      "\u001b[1mOutputs\u001b[0m:\r\n",
      "  \u001b[34m\u001b[4m--o-table\u001b[0m ARTIFACT \u001b[32mFeatureTable[Frequency]\u001b[0m\r\n",
      "                         The resulting denoised feature table.      \u001b[35m[required]\u001b[0m\r\n",
      "  \u001b[34m\u001b[4m--o-representative-sequences\u001b[0m ARTIFACT \u001b[32mFeatureData[Sequence]\u001b[0m\r\n",
      "                         The resulting feature sequences.           \u001b[35m[required]\u001b[0m\r\n",
      "  \u001b[34m\u001b[4m--o-stats\u001b[0m ARTIFACT     Per-sample stats if requested.\r\n",
      "    \u001b[32mDeblurStats\u001b[0m                                                     \u001b[35m[required]\u001b[0m\r\n",
      "\u001b[1mMiscellaneous\u001b[0m:\r\n",
      "  \u001b[34m\u001b[24m--output-dir\u001b[0m PATH      Output unspecified results to a directory\r\n",
      "  \u001b[34m\u001b[24m--verbose\u001b[0m / \u001b[34m\u001b[24m--quiet\u001b[0m    Display verbose output to stdout and/or stderr\r\n",
      "                         during execution of this action. Or silence output if\r\n",
      "                         execution is successful (silence is golden).\r\n",
      "  \u001b[34m\u001b[24m--citations\u001b[0m            Show citations and exit.\r\n",
      "  \u001b[34m\u001b[24m--help\u001b[0m                 Show this message and exit.\r\n"
     ]
    }
   ],
   "source": [
    "qiime deblur denoise-16S --help"
   ]
  },
  {
   "cell_type": "markdown",
   "metadata": {},
   "source": [
    "### Denoising w/ deblur\n",
    "* Here I'm using the default behaviour of --p-min-reads = 10\n",
    "* Reads are trimmed to 402nt which retains is at least 98% of the reads<br>\n",
    "(this step may take a while depending on the size of your data ...)"
   ]
  },
  {
   "cell_type": "code",
   "execution_count": 106,
   "metadata": {},
   "outputs": [
    {
     "name": "stdout",
     "output_type": "stream",
     "text": [
      "\u001b[32mSaved FeatureTable[Frequency] to: deblur_output/table.qza\u001b[0m\n",
      "\u001b[32mSaved FeatureData[Sequence] to: deblur_output/representative_sequences.qza\u001b[0m\n",
      "\u001b[32mSaved DeblurStats to: deblur_output/stats.qza\u001b[0m\n"
     ]
    }
   ],
   "source": [
    "qiime deblur denoise-16S \\\n",
    "--i-demultiplexed-seqs paired_reads_qza/reads_trimmed_joined_filt.qza \\\n",
    "--p-trim-length 402 \\\n",
    "--p-sample-stats \\\n",
    "--p-jobs-to-start 8 \\\n",
    "--p-min-reads 10 \\\n",
    "--output-dir deblur_output"
   ]
  },
  {
   "cell_type": "markdown",
   "metadata": {},
   "source": [
    "### Output is saved in the deblur_output folder\n",
    "#### let's summarise our deblur output"
   ]
  },
  {
   "cell_type": "code",
   "execution_count": 107,
   "metadata": {},
   "outputs": [
    {
     "name": "stdout",
     "output_type": "stream",
     "text": [
      "\u001b[32mSaved Visualization to: deblur_output/deblur-stats.qzv\u001b[0m\r\n"
     ]
    }
   ],
   "source": [
    "qiime deblur visualize-stats \\\n",
    "  --i-deblur-stats deblur_output/stats.qza \\\n",
    "  --o-visualization deblur_output/deblur-stats.qzv"
   ]
  },
  {
   "cell_type": "code",
   "execution_count": 108,
   "metadata": {
    "scrolled": true
   },
   "outputs": [
    {
     "name": "stdout",
     "output_type": "stream",
     "text": [
      "Press the 'q' key, Control-C, or Control-D to quit. This view may no longer be accessible or work correctly after quitting.[29817:29838:0527/235316.922441:ERROR:browser_process_sub_thread.cc(209)] Waited 5 ms for network service\n",
      "Opening in existing browser session.\n",
      "\n",
      "Press the 'q' key, Control-C, or Control-D to quit. This view may no longer be accessible or work correctly after quitting."
     ]
    }
   ],
   "source": [
    "qiime tools view deblur_output/deblur-stats.qzv"
   ]
  },
  {
   "cell_type": "code",
   "execution_count": 109,
   "metadata": {},
   "outputs": [
    {
     "name": "stdout",
     "output_type": "stream",
     "text": [
      "\u001b[32mSaved Visualization to: deblur_output/deblur_table_summary.qzv\u001b[0m\r\n"
     ]
    }
   ],
   "source": [
    "qiime feature-table summarize \\\n",
    "--i-table deblur_output/table.qza \\\n",
    "--o-visualization deblur_output/deblur_table_summary.qzv"
   ]
  },
  {
   "cell_type": "code",
   "execution_count": 110,
   "metadata": {},
   "outputs": [
    {
     "name": "stdout",
     "output_type": "stream",
     "text": [
      "Press the 'q' key, Control-C, or Control-D to quit. This view may no longer be accessible or work correctly after quitting.[30210:30231:0527/235353.890697:ERROR:browser_process_sub_thread.cc(209)] Waited 5 ms for network service\n",
      "Opening in existing browser session.\n",
      "\n",
      "Press the 'q' key, Control-C, or Control-D to quit. This view may no longer be accessible or work correctly after quitting."
     ]
    }
   ],
   "source": [
    "qiime tools view deblur_output/deblur_table_summary.qzv"
   ]
  },
  {
   "cell_type": "markdown",
   "metadata": {},
   "source": [
    "### Tabulate representative sequences"
   ]
  },
  {
   "cell_type": "code",
   "execution_count": 111,
   "metadata": {},
   "outputs": [
    {
     "name": "stdout",
     "output_type": "stream",
     "text": [
      "\u001b[32mSaved Visualization to: representative_sequences.qzv\u001b[0m\r\n"
     ]
    }
   ],
   "source": [
    "qiime feature-table tabulate-seqs \\\n",
    "  --i-data deblur_output/representative_sequences.qza \\\n",
    "  --o-visualization representative_sequences.qzv"
   ]
  },
  {
   "cell_type": "code",
   "execution_count": 112,
   "metadata": {},
   "outputs": [
    {
     "name": "stdout",
     "output_type": "stream",
     "text": [
      "Press the 'q' key, Control-C, or Control-D to quit. This view may no longer be accessible or work correctly after quitting.[30607:30607:0527/235411.374129:ERROR:sandbox_linux.cc(364)] InitializeSandbox() called with multiple threads in process gpu-process.\n",
      "[30568:30589:0527/235411.374893:ERROR:browser_process_sub_thread.cc(209)] Waited 3 ms for network service\n",
      "Opening in existing browser session.\n",
      "\n",
      "Press the 'q' key, Control-C, or Control-D to quit. This view may no longer be accessible or work correctly after quitting."
     ]
    }
   ],
   "source": [
    "qiime tools view representative_sequences.qzv"
   ]
  },
  {
   "cell_type": "markdown",
   "metadata": {},
   "source": [
    "## Building phylogeny with FastTree\n",
    "### Making multiple-sequence alignment\n",
    "\n",
    "We'll need to make a multiple-sequence alignment of the ASVs before running FastTree."
   ]
  },
  {
   "cell_type": "code",
   "execution_count": 113,
   "metadata": {},
   "outputs": [
    {
     "name": "stdout",
     "output_type": "stream",
     "text": [
      "mkdir: cannot create directory ‘fast_tree_out’: File exists\r\n"
     ]
    }
   ],
   "source": [
    "mkdir fast_tree_out"
   ]
  },
  {
   "cell_type": "code",
   "execution_count": 114,
   "metadata": {},
   "outputs": [
    {
     "name": "stdout",
     "output_type": "stream",
     "text": [
      "\u001b[32mSaved FeatureData[AlignedSequence] to: fast_tree_out/rep_seqs_mafft.qza\u001b[0m\r\n"
     ]
    }
   ],
   "source": [
    "qiime alignment mafft \\\n",
    "--i-sequences deblur_output/representative_sequences.qza \\\n",
    "--p-n-threads 8 \\\n",
    "--o-alignment fast_tree_out/rep_seqs_mafft.qza\n"
   ]
  },
  {
   "cell_type": "markdown",
   "metadata": {},
   "source": [
    "### Filtering multiple-sequence alignment\n",
    "\n",
    "Variable positions in the alignment need to be masked before FastTree is run, which can be done with this command:"
   ]
  },
  {
   "cell_type": "code",
   "execution_count": 115,
   "metadata": {},
   "outputs": [
    {
     "name": "stdout",
     "output_type": "stream",
     "text": [
      "\u001b[32mSaved FeatureData[AlignedSequence] to: fast_tree_out/rep_seqs_mafft_masked.qza\u001b[0m\r\n"
     ]
    }
   ],
   "source": [
    "qiime alignment mask --i-alignment fast_tree_out/rep_seqs_mafft.qza \\\n",
    "  --o-masked-alignment fast_tree_out/rep_seqs_mafft_masked.qza"
   ]
  },
  {
   "cell_type": "markdown",
   "metadata": {},
   "source": [
    "### Running FastTree\n",
    "\n",
    "Finally FastTree can be run on this masked multiple-sequence alignment:"
   ]
  },
  {
   "cell_type": "code",
   "execution_count": 116,
   "metadata": {},
   "outputs": [
    {
     "name": "stdout",
     "output_type": "stream",
     "text": [
      "\u001b[32mSaved Phylogeny[Unrooted] to: fast_tree_out/rep_seqs_aligned_masked_tree.qza\u001b[0m\r\n"
     ]
    }
   ],
   "source": [
    "qiime phylogeny fasttree \\\n",
    "--i-alignment fast_tree_out/rep_seqs_mafft_masked.qza \\\n",
    "--p-n-threads 4 \\\n",
    "--o-tree fast_tree_out/rep_seqs_aligned_masked_tree"
   ]
  },
  {
   "cell_type": "markdown",
   "metadata": {},
   "source": [
    "### Make a rooted tree\n",
    "\n",
    "Use midpoint root"
   ]
  },
  {
   "cell_type": "code",
   "execution_count": 117,
   "metadata": {},
   "outputs": [
    {
     "name": "stdout",
     "output_type": "stream",
     "text": [
      "\u001b[32mSaved Phylogeny[Rooted] to: fast_tree_out/rep_seqs_mafft_masked_tree_rooted.qza\u001b[0m\r\n"
     ]
    }
   ],
   "source": [
    "qiime phylogeny midpoint-root \\\n",
    "--i-tree fast_tree_out/rep_seqs_aligned_masked_tree.qza \\\n",
    "--o-rooted-tree fast_tree_out/rep_seqs_mafft_masked_tree_rooted.qza"
   ]
  },
  {
   "cell_type": "markdown",
   "metadata": {},
   "source": [
    "### Generate rarefaction curves\n",
    "\n",
    "* Useful QC step\n",
    "* Determine maximum depth for the rarefaction using following (I'm using 8000):\n"
   ]
  },
  {
   "cell_type": "code",
   "execution_count": 118,
   "metadata": {},
   "outputs": [
    {
     "name": "stdout",
     "output_type": "stream",
     "text": [
      "Press the 'q' key, Control-C, or Control-D to quit. This view may no longer be accessible or work correctly after quitting.[31267:31267:0527/235529.491841:ERROR:sandbox_linux.cc(364)] InitializeSandbox() called with multiple threads in process gpu-process.\n",
      "[31226:31247:0527/235529.502609:ERROR:browser_process_sub_thread.cc(209)] Waited 5 ms for network service\n",
      "Opening in existing browser session.\n",
      "\n",
      "Press the 'q' key, Control-C, or Control-D to quit. This view may no longer be accessible or work correctly after quitting."
     ]
    }
   ],
   "source": [
    "qiime tools view deblur_output/deblur_table_summary.qzv"
   ]
  },
  {
   "cell_type": "code",
   "execution_count": 119,
   "metadata": {},
   "outputs": [
    {
     "name": "stdout",
     "output_type": "stream",
     "text": [
      "Usage: \u001b[34m\u001b[24mqiime diversity alpha-rarefaction\u001b[0m [OPTIONS]\r\n",
      "\r\n",
      "  Generate interactive alpha rarefaction curves by computing rarefactions\r\n",
      "  between `min_depth` and `max_depth`. The number of intermediate depths to\r\n",
      "  compute is controlled by the `steps` parameter, with n `iterations` being\r\n",
      "  computed at each rarefaction depth. If sample metadata is provided,\r\n",
      "  samples may be grouped based on distinct values within a metadata column.\r\n",
      "\r\n",
      "\u001b[1mInputs\u001b[0m:\r\n",
      "  \u001b[34m\u001b[4m--i-table\u001b[0m ARTIFACT \u001b[32mFeatureTable[Frequency]\u001b[0m\r\n",
      "                          Feature table to compute rarefaction curves from.\r\n",
      "                                                                    \u001b[35m[required]\u001b[0m\r\n",
      "  \u001b[34m\u001b[24m--i-phylogeny\u001b[0m ARTIFACT  Optional phylogeny for phylogenetic metrics.\r\n",
      "    \u001b[32mPhylogeny[Rooted]\u001b[0m                                               \u001b[35m[optional]\u001b[0m\r\n",
      "\u001b[1mParameters\u001b[0m:\r\n",
      "  \u001b[34m\u001b[4m--p-max-depth\u001b[0m INTEGER   The maximum rarefaction depth. Must be greater than\r\n",
      "    \u001b[32mRange(1, None)\u001b[0m        \u001b[4mmin-depth\u001b[0m.                                \u001b[35m[required]\u001b[0m\r\n",
      "  \u001b[34m\u001b[24m--p-metrics\u001b[0m TEXT... \u001b[32mChoices('margalef', 'simpson',\u001b[0m\r\n",
      "    \u001b[32m'michaelis_menten_fit', 'simpson_e', 'gini_index', 'faith_pd',\u001b[0m\r\n",
      "    \u001b[32m'mcintosh_d', 'mcintosh_e', 'enspie', 'doubles', 'brillouin_d',\u001b[0m\r\n",
      "    \u001b[32m'goods_coverage', 'lladser_pe', 'ace', 'fisher_alpha', 'shannon',\u001b[0m\r\n",
      "    \u001b[32m'dominance', 'heip_e', 'pielou_e', 'chao1', 'robbins', 'menhinick',\u001b[0m\r\n",
      "    \u001b[32m'singles', 'berger_parker_d', 'observed_otus')\u001b[0m\r\n",
      "                          The metrics to be measured. By default computes\r\n",
      "                          observed_otus, shannon, and if phylogeny is\r\n",
      "                          provided, faith_pd.                       \u001b[35m[optional]\u001b[0m\r\n",
      "  \u001b[34m\u001b[24m--m-metadata-file\u001b[0m METADATA...\r\n",
      "    (multiple arguments   The sample metadata.\r\n",
      "     will be merged)                                                \u001b[35m[optional]\u001b[0m\r\n",
      "  \u001b[34m\u001b[24m--p-min-depth\u001b[0m INTEGER   The minimum rarefaction depth.\r\n",
      "    \u001b[32mRange(1, None)\u001b[0m                                                \u001b[35m[default: 1]\u001b[0m\r\n",
      "  \u001b[34m\u001b[24m--p-steps\u001b[0m INTEGER       The number of rarefaction depths to include between\r\n",
      "    \u001b[32mRange(2, None)\u001b[0m        \u001b[4mmin-depth\u001b[0m and \u001b[4mmax-depth\u001b[0m.               \u001b[35m[default: 10]\u001b[0m\r\n",
      "  \u001b[34m\u001b[24m--p-iterations\u001b[0m INTEGER  The number of rarefied feature tables to compute at\r\n",
      "    \u001b[32mRange(1, None)\u001b[0m        each step.                             \u001b[35m[default: 10]\u001b[0m\r\n",
      "\u001b[1mOutputs\u001b[0m:\r\n",
      "  \u001b[34m\u001b[4m--o-visualization\u001b[0m VISUALIZATION\r\n",
      "                                                                    \u001b[35m[required]\u001b[0m\r\n",
      "\u001b[1mMiscellaneous\u001b[0m:\r\n",
      "  \u001b[34m\u001b[24m--output-dir\u001b[0m PATH       Output unspecified results to a directory\r\n",
      "  \u001b[34m\u001b[24m--verbose\u001b[0m / \u001b[34m\u001b[24m--quiet\u001b[0m     Display verbose output to stdout and/or stderr\r\n",
      "                          during execution of this action. Or silence output\r\n",
      "                          if execution is successful (silence is golden).\r\n",
      "  \u001b[34m\u001b[24m--citations\u001b[0m             Show citations and exit.\r\n",
      "  \u001b[34m\u001b[24m--help\u001b[0m                  Show this message and exit.\r\n"
     ]
    }
   ],
   "source": [
    "qiime diversity alpha-rarefaction --help"
   ]
  },
  {
   "cell_type": "code",
   "execution_count": null,
   "metadata": {},
   "outputs": [],
   "source": []
  },
  {
   "cell_type": "code",
   "execution_count": null,
   "metadata": {},
   "outputs": [],
   "source": []
  },
  {
   "cell_type": "code",
   "execution_count": null,
   "metadata": {},
   "outputs": [],
   "source": []
  },
  {
   "cell_type": "code",
   "execution_count": 120,
   "metadata": {},
   "outputs": [
    {
     "name": "stdout",
     "output_type": "stream",
     "text": [
      "\u001b[32mSaved Visualization to: rarefaction_curves.qzv\u001b[0m\r\n"
     ]
    }
   ],
   "source": [
    "qiime diversity alpha-rarefaction \\\n",
    "--i-table deblur_output/table.qza \\\n",
    "--p-max-depth 8000 \\\n",
    "--p-metrics simpson \\\n",
    "--p-metrics faith_pd \\\n",
    "--p-metrics dominance \\\n",
    "--p-metrics chao1 \\\n",
    "--p-metrics observed_otus \\\n",
    "--p-metrics shannon \\\n",
    "--p-steps 20 \\\n",
    "--i-phylogeny fast_tree_out/rep_seqs_mafft_masked_tree_rooted.qza \\\n",
    "--o-visualization rarefaction_curves.qzv"
   ]
  },
  {
   "cell_type": "code",
   "execution_count": 121,
   "metadata": {
    "scrolled": true
   },
   "outputs": [
    {
     "name": "stdout",
     "output_type": "stream",
     "text": [
      "Press the 'q' key, Control-C, or Control-D to quit. This view may no longer be accessible or work correctly after quitting.[31652:31673:0527/235612.774071:ERROR:browser_process_sub_thread.cc(209)] Waited 3 ms for network service\n",
      "Opening in existing browser session.\n",
      "\n",
      "Press the 'q' key, Control-C, or Control-D to quit. This view may no longer be accessible or work correctly after quitting."
     ]
    }
   ],
   "source": [
    "qiime tools view rarefaction_curves.qzv"
   ]
  },
  {
   "cell_type": "markdown",
   "metadata": {},
   "source": [
    "### Using metadata w\\ rarefaction"
   ]
  },
  {
   "cell_type": "code",
   "execution_count": 122,
   "metadata": {},
   "outputs": [
    {
     "name": "stdout",
     "output_type": "stream",
     "text": [
      "\u001b[31m\u001b[1mPlugin error from diversity:\r\n",
      "\r\n",
      "  The following IDs are not present in the metadata: 'nm1-9a', 'o1', 'o29'\r\n",
      "\r\n",
      "Debug info has been saved to /tmp/qiime2-q2cli-err-6vb4gl4x.log\u001b[0m\r\n"
     ]
    }
   ],
   "source": [
    "qiime diversity alpha-rarefaction \\\n",
    "--i-table deblur_output/table.qza \\\n",
    "--p-max-depth 8000 \\\n",
    "--p-steps 20 \\\n",
    "--i-phylogeny fast_tree_out/rep_seqs_mafft_masked_tree_rooted.qza \\\n",
    "--m-metadata-file mappingfile_upd4.csv \\\n",
    "--o-visualization rarefaction_metadata_curves.qzv"
   ]
  },
  {
   "cell_type": "markdown",
   "metadata": {},
   "source": [
    "### Ups! We seem to have an error...\n",
    "* We need to remove those samples from FeatureTable\n",
    "* Also, we have 2 samples that contain no data, let's remove them as well"
   ]
  },
  {
   "cell_type": "code",
   "execution_count": 123,
   "metadata": {},
   "outputs": [],
   "source": [
    "echo SampleID > samples-to-exclude.tsv"
   ]
  },
  {
   "cell_type": "code",
   "execution_count": null,
   "metadata": {},
   "outputs": [],
   "source": [
    "echo nm1-9a >> samples-to-exclude.tsv"
   ]
  },
  {
   "cell_type": "code",
   "execution_count": null,
   "metadata": {},
   "outputs": [],
   "source": [
    "echo o1 >> samples-to-exclude.tsv"
   ]
  },
  {
   "cell_type": "code",
   "execution_count": null,
   "metadata": {},
   "outputs": [],
   "source": [
    "echo o29 >> samples-to-exclude.tsv"
   ]
  },
  {
   "cell_type": "code",
   "execution_count": null,
   "metadata": {},
   "outputs": [],
   "source": [
    "echo o20 >> samples-to-exclude.tsv"
   ]
  },
  {
   "cell_type": "code",
   "execution_count": null,
   "metadata": {},
   "outputs": [],
   "source": [
    "echo o7 >> samples-to-exclude.tsv"
   ]
  },
  {
   "cell_type": "markdown",
   "metadata": {},
   "source": [
    "### Filtering out samples"
   ]
  },
  {
   "cell_type": "code",
   "execution_count": 124,
   "metadata": {},
   "outputs": [
    {
     "name": "stdout",
     "output_type": "stream",
     "text": [
      "\u001b[32mSaved FeatureTable[Frequency] to: id-filtered-deblur-table.qza\u001b[0m\r\n"
     ]
    }
   ],
   "source": [
    "qiime feature-table filter-samples \\\n",
    "  --p-exclude-ids \\\n",
    "  --i-table deblur_output/table.qza \\\n",
    "  --m-metadata-file samples-to-exclude.tsv \\\n",
    "  --o-filtered-table id-filtered-deblur-table.qza\n"
   ]
  },
  {
   "cell_type": "markdown",
   "metadata": {},
   "source": [
    "### Let's run it again\n",
    "* Pay attention that we are supplying updated FeatureTable as its --i-table argument"
   ]
  },
  {
   "cell_type": "code",
   "execution_count": 125,
   "metadata": {
    "scrolled": false
   },
   "outputs": [
    {
     "name": "stdout",
     "output_type": "stream",
     "text": [
      "\u001b[32mSaved Visualization to: rarefaction_metadata_curves.qzv\u001b[0m\r\n"
     ]
    }
   ],
   "source": [
    "qiime diversity alpha-rarefaction \\\n",
    "--i-table id-filtered-deblur-table.qza \\\n",
    "--p-max-depth 8000 \\\n",
    "--p-steps 20 \\\n",
    "--i-phylogeny fast_tree_out/rep_seqs_mafft_masked_tree_rooted.qza \\\n",
    "--m-metadata-file mappingfile_upd4.csv \\\n",
    "--o-visualization rarefaction_metadata_curves.qzv"
   ]
  },
  {
   "cell_type": "code",
   "execution_count": 126,
   "metadata": {},
   "outputs": [
    {
     "name": "stdout",
     "output_type": "stream",
     "text": [
      "Press the 'q' key, Control-C, or Control-D to quit. This view may no longer be accessible or work correctly after quitting.[32156:32156:0527/235720.460100:ERROR:sandbox_linux.cc(364)] InitializeSandbox() called with multiple threads in process gpu-process.\n",
      "[32116:32137:0527/235720.466302:ERROR:browser_process_sub_thread.cc(209)] Waited 5 ms for network service\n",
      "Opening in existing browser session.\n",
      "\n",
      "Press the 'q' key, Control-C, or Control-D to quit. This view may no longer be accessible or work correctly after quitting."
     ]
    }
   ],
   "source": [
    "qiime tools view rarefaction_metadata_curves.qzv"
   ]
  },
  {
   "cell_type": "markdown",
   "metadata": {},
   "source": [
    "### Optional step to re-summarize our filtered FeatureTable"
   ]
  },
  {
   "cell_type": "code",
   "execution_count": 127,
   "metadata": {},
   "outputs": [
    {
     "name": "stdout",
     "output_type": "stream",
     "text": [
      "\u001b[32mSaved Visualization to: id-filtered-deblur-table.qzv\u001b[0m\r\n"
     ]
    }
   ],
   "source": [
    "qiime feature-table summarize \\\n",
    "  --i-table id-filtered-deblur-table.qza \\\n",
    "  --o-visualization id-filtered-deblur-table.qzv \\\n",
    "  --m-sample-metadata-file mappingfile_upd4.csv\n"
   ]
  },
  {
   "cell_type": "code",
   "execution_count": 128,
   "metadata": {
    "scrolled": false
   },
   "outputs": [
    {
     "name": "stdout",
     "output_type": "stream",
     "text": [
      "Press the 'q' key, Control-C, or Control-D to quit. This view may no longer be accessible or work correctly after quitting.[32516:32516:0527/235731.148830:ERROR:sandbox_linux.cc(364)] InitializeSandbox() called with multiple threads in process gpu-process.\n",
      "[32474:32495:0527/235731.158822:ERROR:browser_process_sub_thread.cc(209)] Waited 3 ms for network service\n",
      "Opening in existing browser session.\n",
      "\n",
      "Press the 'q' key, Control-C, or Control-D to quit. This view may no longer be accessible or work correctly after quitting."
     ]
    }
   ],
   "source": [
    "qiime tools view id-filtered-deblur-table.qzv"
   ]
  },
  {
   "cell_type": "markdown",
   "metadata": {},
   "source": [
    "## Assign taxonomy\n",
    "* Could be assigned to ASVs using a Naive-Bayes classifier\n",
    "* This classifier was trained using SILVA 132 database and is specific for v3v4 region\n",
    "* Contains edits for WPS-2 (Rubrimentifilales and AS-11)\n",
    "* Could be trained <i>de novo</i>, but RAM intensive\n",
    "* Qiime version sensitive\n",
    "\n",
    "(this step may take a long time to complete ...)"
   ]
  },
  {
   "cell_type": "code",
   "execution_count": 129,
   "metadata": {},
   "outputs": [
    {
     "name": "stdout",
     "output_type": "stream",
     "text": [
      "\u001b[32mSaved FeatureData[Taxonomy] to: taxonomy/classification.qza\u001b[0m\r\n"
     ]
    }
   ],
   "source": [
    "qiime feature-classifier classify-sklearn \\\n",
    "--i-reads deblur_output/representative_sequences.qza \\\n",
    "--i-classifier v3v4_silva132_classifier_wps2_2groups.qza \\\n",
    "--output-dir taxonomy"
   ]
  },
  {
   "cell_type": "markdown",
   "metadata": {},
   "source": [
    "### Our taxonomy folder now contains classification.qza file\n",
    "let's explore the results..\n",
    "\n",
    "#### Following command export the classification as a tsv-file\n"
   ]
  },
  {
   "cell_type": "code",
   "execution_count": 130,
   "metadata": {},
   "outputs": [
    {
     "name": "stdout",
     "output_type": "stream",
     "text": [
      "\u001b[32mExported taxonomy/classification.qza as TSVTaxonomyDirectoryFormat to directory taxonomy\u001b[0m\r\n"
     ]
    }
   ],
   "source": [
    "qiime tools export --input-path taxonomy/classification.qza --output-path taxonomy"
   ]
  },
  {
   "cell_type": "markdown",
   "metadata": {},
   "source": [
    "### At last..., Our Beloved Bar-Chart :)"
   ]
  },
  {
   "cell_type": "code",
   "execution_count": 131,
   "metadata": {},
   "outputs": [
    {
     "name": "stdout",
     "output_type": "stream",
     "text": [
      "\u001b[32mSaved Visualization to: taxonomy/taxa_barplot.qzv\u001b[0m\r\n"
     ]
    }
   ],
   "source": [
    "qiime taxa barplot \\\n",
    "--i-table id-filtered-deblur-table.qza \\\n",
    "--i-taxonomy taxonomy/classification.qza \\\n",
    "--m-metadata-file mappingfile_upd4.csv \\\n",
    "--o-visualization taxonomy/taxa_barplot.qzv"
   ]
  },
  {
   "cell_type": "code",
   "execution_count": 132,
   "metadata": {},
   "outputs": [
    {
     "name": "stdout",
     "output_type": "stream",
     "text": [
      "Press the 'q' key, Control-C, or Control-D to quit. This view may no longer be accessible or work correctly after quitting.[6326:6375:0528/003825.571767:ERROR:browser_process_sub_thread.cc(209)] Waited 3 ms for network service\n",
      "Opening in existing browser session.\n",
      "\n",
      "Press the 'q' key, Control-C, or Control-D to quit. This view may no longer be accessible or work correctly after quitting."
     ]
    }
   ],
   "source": [
    "qiime tools view taxonomy/taxa_barplot.qzv"
   ]
  },
  {
   "cell_type": "markdown",
   "metadata": {},
   "source": [
    "## Finally, let's calculate core diversity metrics\n",
    "* For this step we need to select a reasonable rarefaction value\n",
    "* Let's have a look at our FeatureTable again"
   ]
  },
  {
   "cell_type": "code",
   "execution_count": 133,
   "metadata": {
    "scrolled": true
   },
   "outputs": [
    {
     "name": "stdout",
     "output_type": "stream",
     "text": [
      "Press the 'q' key, Control-C, or Control-D to quit. This view may no longer be accessible or work correctly after quitting.[6800:6800:0528/003836.431192:ERROR:sandbox_linux.cc(364)] InitializeSandbox() called with multiple threads in process gpu-process.\n",
      "[6759:6780:0528/003836.436214:ERROR:browser_process_sub_thread.cc(209)] Waited 5 ms for network service\n",
      "Opening in existing browser session.\n",
      "\n",
      "Press the 'q' key, Control-C, or Control-D to quit. This view may no longer be accessible or work correctly after quitting."
     ]
    }
   ],
   "source": [
    "qiime tools view id-filtered-deblur-table.qzv"
   ]
  },
  {
   "cell_type": "markdown",
   "metadata": {},
   "source": [
    "#### 400 seems to be a good number in this case, we are loosing only 2 samples"
   ]
  },
  {
   "cell_type": "code",
   "execution_count": 134,
   "metadata": {},
   "outputs": [
    {
     "name": "stdout",
     "output_type": "stream",
     "text": [
      "\u001b[32mSaved FeatureTable[Frequency] to: core-metrics/rarefied_table.qza\u001b[0m\n",
      "\u001b[32mSaved SampleData[AlphaDiversity] % Properties('phylogenetic') to: core-metrics/faith_pd_vector.qza\u001b[0m\n",
      "\u001b[32mSaved SampleData[AlphaDiversity] to: core-metrics/observed_otus_vector.qza\u001b[0m\n",
      "\u001b[32mSaved SampleData[AlphaDiversity] to: core-metrics/shannon_vector.qza\u001b[0m\n",
      "\u001b[32mSaved SampleData[AlphaDiversity] to: core-metrics/evenness_vector.qza\u001b[0m\n",
      "\u001b[32mSaved DistanceMatrix % Properties('phylogenetic') to: core-metrics/unweighted_unifrac_distance_matrix.qza\u001b[0m\n",
      "\u001b[32mSaved DistanceMatrix % Properties('phylogenetic') to: core-metrics/weighted_unifrac_distance_matrix.qza\u001b[0m\n",
      "\u001b[32mSaved DistanceMatrix to: core-metrics/jaccard_distance_matrix.qza\u001b[0m\n",
      "\u001b[32mSaved DistanceMatrix to: core-metrics/bray_curtis_distance_matrix.qza\u001b[0m\n",
      "\u001b[32mSaved PCoAResults to: core-metrics/unweighted_unifrac_pcoa_results.qza\u001b[0m\n",
      "\u001b[32mSaved PCoAResults to: core-metrics/weighted_unifrac_pcoa_results.qza\u001b[0m\n",
      "\u001b[32mSaved PCoAResults to: core-metrics/jaccard_pcoa_results.qza\u001b[0m\n",
      "\u001b[32mSaved PCoAResults to: core-metrics/bray_curtis_pcoa_results.qza\u001b[0m\n",
      "\u001b[32mSaved Visualization to: core-metrics/unweighted_unifrac_emperor.qzv\u001b[0m\n",
      "\u001b[32mSaved Visualization to: core-metrics/weighted_unifrac_emperor.qzv\u001b[0m\n",
      "\u001b[32mSaved Visualization to: core-metrics/jaccard_emperor.qzv\u001b[0m\n",
      "\u001b[32mSaved Visualization to: core-metrics/bray_curtis_emperor.qzv\u001b[0m\n"
     ]
    }
   ],
   "source": [
    "qiime diversity core-metrics-phylogenetic \\\n",
    "--i-phylogeny fast_tree_out/rep_seqs_mafft_masked_tree_rooted.qza \\\n",
    "--i-table id-filtered-deblur-table.qza \\\n",
    "--p-sampling-depth 400 \\\n",
    "--m-metadata-file mappingfile_upd4.csv \\\n",
    "--output-dir core-metrics"
   ]
  },
  {
   "cell_type": "markdown",
   "metadata": {},
   "source": [
    "#### let's view an ordination plot"
   ]
  },
  {
   "cell_type": "code",
   "execution_count": 135,
   "metadata": {
    "scrolled": true
   },
   "outputs": [
    {
     "name": "stdout",
     "output_type": "stream",
     "text": [
      "Press the 'q' key, Control-C, or Control-D to quit. This view may no longer be accessible or work correctly after quitting.[7169:7226:0528/003856.615757:ERROR:browser_process_sub_thread.cc(209)] Waited 3 ms for network service\n",
      "[7278:7278:0528/003856.616153:ERROR:sandbox_linux.cc(364)] InitializeSandbox() called with multiple threads in process gpu-process.\n",
      "Opening in existing browser session.\n",
      "\n",
      "Press the 'q' key, Control-C, or Control-D to quit. This view may no longer be accessible or work correctly after quitting."
     ]
    }
   ],
   "source": [
    "qiime tools view core-metrics/weighted_unifrac_emperor.qzv"
   ]
  },
  {
   "cell_type": "markdown",
   "metadata": {},
   "source": [
    "### Alpha diversity group significance test\n",
    "* An example of just one metric"
   ]
  },
  {
   "cell_type": "code",
   "execution_count": 136,
   "metadata": {},
   "outputs": [
    {
     "name": "stdout",
     "output_type": "stream",
     "text": [
      "\u001b[32mSaved Visualization to: core-metrics/faith-pd-group-significance.qzv\u001b[0m\r\n"
     ]
    }
   ],
   "source": [
    "qiime diversity alpha-group-significance \\\n",
    "--i-alpha-diversity core-metrics/faith_pd_vector.qza \\\n",
    "--m-metadata-file mappingfile_upd4.csv \\\n",
    "--o-visualization core-metrics/faith-pd-group-significance.qzv"
   ]
  },
  {
   "cell_type": "code",
   "execution_count": 137,
   "metadata": {},
   "outputs": [
    {
     "name": "stdout",
     "output_type": "stream",
     "text": [
      "Press the 'q' key, Control-C, or Control-D to quit. This view may no longer be accessible or work correctly after quitting.[7683:7683:0528/003911.628849:ERROR:sandbox_linux.cc(364)] InitializeSandbox() called with multiple threads in process gpu-process.\n",
      "[7643:7664:0528/003911.631947:ERROR:browser_process_sub_thread.cc(209)] Waited 5 ms for network service\n",
      "Opening in existing browser session.\n",
      "\n",
      "Press the 'q' key, Control-C, or Control-D to quit. This view may no longer be accessible or work correctly after quitting."
     ]
    }
   ],
   "source": [
    "qiime tools view core-metrics/faith-pd-group-significance.qzv"
   ]
  },
  {
   "cell_type": "markdown",
   "metadata": {},
   "source": [
    "### Beta diversity group significance test\n",
    "* lets test weighted unifrac"
   ]
  },
  {
   "cell_type": "code",
   "execution_count": 138,
   "metadata": {},
   "outputs": [
    {
     "name": "stdout",
     "output_type": "stream",
     "text": [
      "\u001b[32mSaved Visualization to: core-metrics/unweighted-unifrac-bodysite-significance.qzv\u001b[0m\r\n"
     ]
    }
   ],
   "source": [
    "qiime diversity beta-group-significance \\\n",
    "--i-distance-matrix core-metrics/weighted_unifrac_distance_matrix.qza \\\n",
    "--m-metadata-file mappingfile_upd4.csv \\\n",
    "--m-metadata-column Location \\\n",
    "--p-pairwise \\\n",
    "--o-visualization core-metrics/unweighted-unifrac-bodysite-significance.qzv"
   ]
  },
  {
   "cell_type": "code",
   "execution_count": 139,
   "metadata": {
    "scrolled": true
   },
   "outputs": [
    {
     "name": "stdout",
     "output_type": "stream",
     "text": [
      "Press the 'q' key, Control-C, or Control-D to quit. This view may no longer be accessible or work correctly after quitting.[8054:8054:0528/003925.363841:ERROR:sandbox_linux.cc(364)] InitializeSandbox() called with multiple threads in process gpu-process.\n",
      "[8012:8033:0528/003925.379743:ERROR:browser_process_sub_thread.cc(209)] Waited 5 ms for network service\n",
      "Opening in existing browser session.\n",
      "\n",
      "Press the 'q' key, Control-C, or Control-D to quit. This view may no longer be accessible or work correctly after quitting."
     ]
    }
   ],
   "source": [
    "qiime tools view core-metrics/unweighted-unifrac-bodysite-significance.qzv"
   ]
  },
  {
   "cell_type": "markdown",
   "metadata": {},
   "source": [
    "## Bonus part: Exporting FeatureTables (biom files)\n",
    "* qiime2 keeps taxonomy separately\n",
    "* therefore exporting biom files with taxonomy needs some additional steps\n",
    "\n",
    "Here we are slightly modifying the header of the taxonomy file"
   ]
  },
  {
   "cell_type": "code",
   "execution_count": 140,
   "metadata": {},
   "outputs": [],
   "source": [
    "sed -i -e '1 s/Feature/#OTUID/' -e '1 s/Taxon/taxonomy/' taxonomy/taxonomy.tsv"
   ]
  },
  {
   "cell_type": "markdown",
   "metadata": {},
   "source": [
    "### Let's export the biom file into the folder and convert to tsv there"
   ]
  },
  {
   "cell_type": "code",
   "execution_count": 141,
   "metadata": {},
   "outputs": [
    {
     "name": "stdout",
     "output_type": "stream",
     "text": [
      "\u001b[32mExported id-filtered-deblur-table.qza as BIOMV210DirFmt to directory id-filtered-deblur-table-exported\u001b[0m\r\n"
     ]
    }
   ],
   "source": [
    "qiime tools export \\\n",
    "--input-path id-filtered-deblur-table.qza \\\n",
    "--output-path id-filtered-deblur-table-exported"
   ]
  },
  {
   "cell_type": "code",
   "execution_count": 142,
   "metadata": {},
   "outputs": [],
   "source": [
    "biom add-metadata \\\n",
    "-i id-filtered-deblur-table-exported/feature-table.biom \\\n",
    "-o id-filtered-deblur-table-exported/feature-table_w_tax.biom \\\n",
    "--observation-metadata-fp taxonomy/taxonomy.tsv \\\n",
    "--sc-separated taxonomy"
   ]
  },
  {
   "cell_type": "markdown",
   "metadata": {},
   "source": [
    "### And finally a familiar biom-convert :)"
   ]
  },
  {
   "cell_type": "code",
   "execution_count": 143,
   "metadata": {},
   "outputs": [],
   "source": [
    "biom convert \\\n",
    "-i id-filtered-deblur-table-exported/feature-table_w_tax.biom \\\n",
    "-o id-filtered-deblur-table-exported/feature-table.tsv \\\n",
    "--to-tsv --header-key taxonomy"
   ]
  },
  {
   "cell_type": "markdown",
   "metadata": {},
   "source": [
    "## Good-bye!"
   ]
  }
 ],
 "metadata": {
  "ipub": {
   "titlepage": {
    "author": "Andriy Sheremet",
    "email": "andriy.sheremet@ucalgary.ca",
    "institution": "University of Calgary",
    "title": "qiime2 v.2019.4 lab tutorial"
   }
  },
  "kernelspec": {
   "display_name": "Python 3",
   "language": "python",
   "name": "python3"
  },
  "language_info": {
   "codemirror_mode": {
    "name": "ipython",
    "version": 3
   },
   "file_extension": ".py",
   "mimetype": "text/x-python",
   "name": "python",
   "nbconvert_exporter": "python",
   "pygments_lexer": "ipython3",
   "version": "3.6.8"
  }
 },
 "nbformat": 4,
 "nbformat_minor": 2
}
